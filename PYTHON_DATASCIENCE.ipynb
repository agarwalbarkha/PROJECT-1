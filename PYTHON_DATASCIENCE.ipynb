{
  "cells": [
    {
      "cell_type": "markdown",
      "id": "6a7d5404",
      "metadata": {
        "id": "6a7d5404"
      },
      "source": [
        "<font color='blue'>\n",
        "    <font size = 5>\n",
        "        You have been given the role of a business analyst for an E-Commerce company and have been asked to prepare a basic report on the data. Follow the steps below for preparation of the report. \n",
        "\n",
        "Before you start analysing the data, it is always a good practice to see the size of the data, its features and feature types. If the data set is big, it is not possible to print out all the records. \n",
        "    </font>\n",
        "####  Note: Use the markdown feature of Python to explain your answer.\n",
        "    "
      ]
    },
    {
      "cell_type": "markdown",
      "id": "daf5d935",
      "metadata": {
        "id": "daf5d935"
      },
      "source": [
        "## Load the necessary libraries. Import and load the dataset with a name ECom_Data ."
      ]
    },
    {
      "cell_type": "code",
      "execution_count": null,
      "id": "eec2a3b5",
      "metadata": {
        "id": "eec2a3b5"
      },
      "outputs": [],
      "source": [
        "import numpy as np\n",
        "import pandas as pd\n",
        "import matplotlib.pyplot as plt\n",
        "import seaborn as sns\n",
        "pd.options.display.max_rows = 10"
      ]
    },
    {
      "cell_type": "code",
      "source": [
        "from google.colab import drive\n",
        "drive.mount('/content/drive')"
      ],
      "metadata": {
        "colab": {
          "base_uri": "https://localhost:8080/"
        },
        "id": "AGKQLhae5ma2",
        "outputId": "2de7d345-77c5-42a6-9f32-e48a9a2bbe35"
      },
      "id": "AGKQLhae5ma2",
      "execution_count": null,
      "outputs": [
        {
          "output_type": "stream",
          "name": "stdout",
          "text": [
            "Drive already mounted at /content/drive; to attempt to forcibly remount, call drive.mount(\"/content/drive\", force_remount=True).\n"
          ]
        }
      ]
    },
    {
      "cell_type": "code",
      "execution_count": null,
      "id": "8e1fcc97",
      "metadata": {
        "id": "8e1fcc97"
      },
      "outputs": [],
      "source": [
        "# Get the Data\n",
        "\n",
        "ECom_Data=pd.read_csv('/content/drive/MyDrive/pds_project/E-Commerce_Flipkart.csv')\n"
      ]
    },
    {
      "cell_type": "markdown",
      "id": "2cf5f20f",
      "metadata": {
        "id": "2cf5f20f"
      },
      "source": [
        "<font color='blue'>\n",
        "    <font size = 5>\n",
        "        We have read the data and stored the data in \"ECom_Data\" variable </font>"
      ]
    },
    {
      "cell_type": "markdown",
      "id": "a0a4f84a",
      "metadata": {
        "id": "a0a4f84a"
      },
      "source": [
        "## Q 1.\tTo get familiar with the data\n",
        "## a)\tPrint out the first 10 and the last 10 records of the data. (2 marks)\n",
        "## b)\tHow many rows and columns are present in the dataset? Use any two different methods to extract this information. (2 + 2 + 2 marks)\n",
        "## c)\tHow many object data types are there? (1 mark)\n",
        "## d)\tIs there any Boolean data type? (1 mark) \n",
        "#### Note: Use the markdown feature of Python to explain your answer.\n"
      ]
    },
    {
      "cell_type": "markdown",
      "source": [
        ""
      ],
      "metadata": {
        "id": "O9YhT9ttDf9Z"
      },
      "id": "O9YhT9ttDf9Z"
    },
    {
      "cell_type": "markdown",
      "id": "0ba43d74",
      "metadata": {
        "id": "0ba43d74"
      },
      "source": [
        "#### Ans 1 a)"
      ]
    },
    {
      "cell_type": "code",
      "execution_count": null,
      "id": "6684f5a1",
      "metadata": {
        "colab": {
          "base_uri": "https://localhost:8080/",
          "height": 965
        },
        "id": "6684f5a1",
        "outputId": "df258083-7fba-4525-96ff-31a27f0f0f83"
      },
      "outputs": [
        {
          "output_type": "execute_result",
          "data": {
            "text/plain": [
              "                   Customer_uniq_id Region  Order_Date Expected_Delivery_Date  \\\n",
              "0  c2d766ca982eca8304150849735ffef9  North  31-12-2021             03-01-2022   \n",
              "1  7f7036a6d550aaa89d34c77bd39a5e48  East   31-12-2021             03-01-2022   \n",
              "2  f449ec65dcbc041b6ae5e6a32717d01b  East   31-12-2021             03-01-2022   \n",
              "3  0973b37acd0c664e3de26e97e5571454   West  31-12-2021             03-01-2022   \n",
              "4  bc940ea42ee6bef5ac7cea3fb5cfbee7   West  31-12-2021             03-01-2022   \n",
              "5  ce5a6818f7707e2cb61fdcdbba61f5ad  East   25-12-2021             28-12-2021   \n",
              "6  8542703ca9e6ebdf6d742638dfb1f2ca  East   25-12-2021             28-12-2021   \n",
              "7  29c8d290caa451f97b1c32df64477a2c  North  25-12-2021             28-12-2021   \n",
              "8  4044c0ac52c1ee4b28777417651faf42  East   25-12-2021             28-12-2021   \n",
              "9  e54bc0a7c3429da2ebef0b30331fe3d2  East   25-12-2021             28-12-2021   \n",
              "\n",
              "  Delivered_Date                                       product_name  \\\n",
              "0     02-01-2022                Alisha Solid Women's Cycling Shorts   \n",
              "1     02-01-2022                FabHomeDecor Fabric Double Sofa Bed   \n",
              "2     02-01-2022                                         AW Bellies   \n",
              "3     02-01-2022                Alisha Solid Women's Cycling Shorts   \n",
              "4     02-01-2022              Sicons All Purpose Arnica Dog Shampoo   \n",
              "5     27-12-2021                Alisha Solid Women's Cycling Shorts   \n",
              "6     27-12-2021                FabHomeDecor Fabric Double Sofa Bed   \n",
              "7     27-12-2021  dilli bazaaar Bellies, Corporate Casuals, Casuals   \n",
              "8     27-12-2021                Alisha Solid Women's Cycling Shorts   \n",
              "9     27-12-2021                                     Ladela Bellies   \n",
              "\n",
              "  product_main_category      product_subcategory  \\\n",
              "0             Clothing         Women's Clothing    \n",
              "1            Furniture    Living Room Furniture    \n",
              "2             Footwear         Women's Footwear    \n",
              "3             Clothing         Women's Clothing    \n",
              "4         Pet Supplies                 Grooming    \n",
              "5             Clothing         Women's Clothing    \n",
              "6            Furniture    Living Room Furniture    \n",
              "7             Footwear         Women's Footwear    \n",
              "8             Clothing         Women's Clothing    \n",
              "9             Footwear         Women's Footwear    \n",
              "\n",
              "        product_category_filter  \\\n",
              "0   Lingerie, Sleep & Swimwear    \n",
              "1           Sofa Beds & Futons    \n",
              "2                   Ballerinas    \n",
              "3   Lingerie, Sleep & Swimwear    \n",
              "4             Skin & Coat Care    \n",
              "5   Lingerie, Sleep & Swimwear    \n",
              "6           Sofa Beds & Futons    \n",
              "7                   Ballerinas    \n",
              "8   Lingerie, Sleep & Swimwear    \n",
              "9                   Ballerinas    \n",
              "\n",
              "                          product_category_subfilter product_unique ID  \\\n",
              "0                                            Shorts   SRTEH2FF9KEDEFGF   \n",
              "1   FabHomeDecor Fabric Double Sofa Bed (Finish C...  SBEEH3QGU7MFYJFY   \n",
              "2                                         AW Bellies  SHOEH4GRSUBJGZXE   \n",
              "3                                            Shorts   SRTEH2F6HUZMQ6SJ   \n",
              "4                                           Shampoo   PSOEH3ZYDMSYARJ5   \n",
              "5                                            Shorts   SRTEH2FVVKRBAXHB   \n",
              "6   FabHomeDecor Fabric Double Sofa Bed (Finish C...  SBEEH3QGYGHFUEXN   \n",
              "7   dilli bazaaar Bellies, Corporate Casuals, Cas...  SHOEH3DZBFR88SCK   \n",
              "8                                            Shorts   SRTEH2FVUHAAVH9X   \n",
              "9                                     Ladela Bellies  SHOEH4KM2W3Z6EH5   \n",
              "\n",
              "   retail_price  discounted_price  product_rating          Brand  \\\n",
              "0           999               379             2.0         Alisha   \n",
              "1         32157             22646             2.0   FabHomeDecor   \n",
              "2           999               499             1.0             AW   \n",
              "3           699               267             5.0         Alisha   \n",
              "4           220               210             5.0         Sicons   \n",
              "5          1199               479             4.0         Alisha   \n",
              "6         32157             22646             2.0   FabHomeDecor   \n",
              "7           699               349             5.0  dilli bazaaar   \n",
              "8          1199               479             1.0         Alisha   \n",
              "9          1724               950             5.0         Ladela   \n",
              "\n",
              "                              product_specifications  \\\n",
              "0  {\"product_specification\"=>[{\"key\"=>\"Number of ...   \n",
              "1  {\"product_specification\"=>[{\"key\"=>\"Installati...   \n",
              "2  {\"product_specification\"=>[{\"key\"=>\"Ideal For\"...   \n",
              "3  {\"product_specification\"=>[{\"key\"=>\"Number of ...   \n",
              "4  {\"product_specification\"=>[{\"key\"=>\"Pet Type\",...   \n",
              "5  {\"product_specification\"=>[{\"key\"=>\"Number of ...   \n",
              "6  {\"product_specification\"=>[{\"key\"=>\"Installati...   \n",
              "7  {\"product_specification\"=>[{\"key\"=>\"Occasion\",...   \n",
              "8  {\"product_specification\"=>[{\"key\"=>\"Number of ...   \n",
              "9  {\"product_specification\"=>[{\"key\"=>\"Occasion\",...   \n",
              "\n",
              "                                         description  \n",
              "0  Key Features of Alisha Solid Women's Cycling S...  \n",
              "1  FabHomeDecor Fabric Double Sofa Bed (Finish Co...  \n",
              "2  Key Features of AW Bellies Sandals Wedges Heel...  \n",
              "3  Key Features of Alisha Solid Women's Cycling S...  \n",
              "4  Specifications of Sicons All Purpose Arnica Do...  \n",
              "5  Key Features of Alisha Solid Women's Cycling S...  \n",
              "6  FabHomeDecor Fabric Double Sofa Bed (Finish Co...  \n",
              "7  Key Features of dilli bazaaar Bellies, Corpora...  \n",
              "8  Key Features of Alisha Solid Women's Cycling S...  \n",
              "9  Key Features of Ladela Bellies Brand: LADELA C...  "
            ],
            "text/html": [
              "\n",
              "  <div id=\"df-bfc0afb9-de10-4dd0-a955-643b76cc64c6\">\n",
              "    <div class=\"colab-df-container\">\n",
              "      <div>\n",
              "<style scoped>\n",
              "    .dataframe tbody tr th:only-of-type {\n",
              "        vertical-align: middle;\n",
              "    }\n",
              "\n",
              "    .dataframe tbody tr th {\n",
              "        vertical-align: top;\n",
              "    }\n",
              "\n",
              "    .dataframe thead th {\n",
              "        text-align: right;\n",
              "    }\n",
              "</style>\n",
              "<table border=\"1\" class=\"dataframe\">\n",
              "  <thead>\n",
              "    <tr style=\"text-align: right;\">\n",
              "      <th></th>\n",
              "      <th>Customer_uniq_id</th>\n",
              "      <th>Region</th>\n",
              "      <th>Order_Date</th>\n",
              "      <th>Expected_Delivery_Date</th>\n",
              "      <th>Delivered_Date</th>\n",
              "      <th>product_name</th>\n",
              "      <th>product_main_category</th>\n",
              "      <th>product_subcategory</th>\n",
              "      <th>product_category_filter</th>\n",
              "      <th>product_category_subfilter</th>\n",
              "      <th>product_unique ID</th>\n",
              "      <th>retail_price</th>\n",
              "      <th>discounted_price</th>\n",
              "      <th>product_rating</th>\n",
              "      <th>Brand</th>\n",
              "      <th>product_specifications</th>\n",
              "      <th>description</th>\n",
              "    </tr>\n",
              "  </thead>\n",
              "  <tbody>\n",
              "    <tr>\n",
              "      <th>0</th>\n",
              "      <td>c2d766ca982eca8304150849735ffef9</td>\n",
              "      <td>North</td>\n",
              "      <td>31-12-2021</td>\n",
              "      <td>03-01-2022</td>\n",
              "      <td>02-01-2022</td>\n",
              "      <td>Alisha Solid Women's Cycling Shorts</td>\n",
              "      <td>Clothing</td>\n",
              "      <td>Women's Clothing</td>\n",
              "      <td>Lingerie, Sleep &amp; Swimwear</td>\n",
              "      <td>Shorts</td>\n",
              "      <td>SRTEH2FF9KEDEFGF</td>\n",
              "      <td>999</td>\n",
              "      <td>379</td>\n",
              "      <td>2.0</td>\n",
              "      <td>Alisha</td>\n",
              "      <td>{\"product_specification\"=&gt;[{\"key\"=&gt;\"Number of ...</td>\n",
              "      <td>Key Features of Alisha Solid Women's Cycling S...</td>\n",
              "    </tr>\n",
              "    <tr>\n",
              "      <th>1</th>\n",
              "      <td>7f7036a6d550aaa89d34c77bd39a5e48</td>\n",
              "      <td>East</td>\n",
              "      <td>31-12-2021</td>\n",
              "      <td>03-01-2022</td>\n",
              "      <td>02-01-2022</td>\n",
              "      <td>FabHomeDecor Fabric Double Sofa Bed</td>\n",
              "      <td>Furniture</td>\n",
              "      <td>Living Room Furniture</td>\n",
              "      <td>Sofa Beds &amp; Futons</td>\n",
              "      <td>FabHomeDecor Fabric Double Sofa Bed (Finish C...</td>\n",
              "      <td>SBEEH3QGU7MFYJFY</td>\n",
              "      <td>32157</td>\n",
              "      <td>22646</td>\n",
              "      <td>2.0</td>\n",
              "      <td>FabHomeDecor</td>\n",
              "      <td>{\"product_specification\"=&gt;[{\"key\"=&gt;\"Installati...</td>\n",
              "      <td>FabHomeDecor Fabric Double Sofa Bed (Finish Co...</td>\n",
              "    </tr>\n",
              "    <tr>\n",
              "      <th>2</th>\n",
              "      <td>f449ec65dcbc041b6ae5e6a32717d01b</td>\n",
              "      <td>East</td>\n",
              "      <td>31-12-2021</td>\n",
              "      <td>03-01-2022</td>\n",
              "      <td>02-01-2022</td>\n",
              "      <td>AW Bellies</td>\n",
              "      <td>Footwear</td>\n",
              "      <td>Women's Footwear</td>\n",
              "      <td>Ballerinas</td>\n",
              "      <td>AW Bellies</td>\n",
              "      <td>SHOEH4GRSUBJGZXE</td>\n",
              "      <td>999</td>\n",
              "      <td>499</td>\n",
              "      <td>1.0</td>\n",
              "      <td>AW</td>\n",
              "      <td>{\"product_specification\"=&gt;[{\"key\"=&gt;\"Ideal For\"...</td>\n",
              "      <td>Key Features of AW Bellies Sandals Wedges Heel...</td>\n",
              "    </tr>\n",
              "    <tr>\n",
              "      <th>3</th>\n",
              "      <td>0973b37acd0c664e3de26e97e5571454</td>\n",
              "      <td>West</td>\n",
              "      <td>31-12-2021</td>\n",
              "      <td>03-01-2022</td>\n",
              "      <td>02-01-2022</td>\n",
              "      <td>Alisha Solid Women's Cycling Shorts</td>\n",
              "      <td>Clothing</td>\n",
              "      <td>Women's Clothing</td>\n",
              "      <td>Lingerie, Sleep &amp; Swimwear</td>\n",
              "      <td>Shorts</td>\n",
              "      <td>SRTEH2F6HUZMQ6SJ</td>\n",
              "      <td>699</td>\n",
              "      <td>267</td>\n",
              "      <td>5.0</td>\n",
              "      <td>Alisha</td>\n",
              "      <td>{\"product_specification\"=&gt;[{\"key\"=&gt;\"Number of ...</td>\n",
              "      <td>Key Features of Alisha Solid Women's Cycling S...</td>\n",
              "    </tr>\n",
              "    <tr>\n",
              "      <th>4</th>\n",
              "      <td>bc940ea42ee6bef5ac7cea3fb5cfbee7</td>\n",
              "      <td>West</td>\n",
              "      <td>31-12-2021</td>\n",
              "      <td>03-01-2022</td>\n",
              "      <td>02-01-2022</td>\n",
              "      <td>Sicons All Purpose Arnica Dog Shampoo</td>\n",
              "      <td>Pet Supplies</td>\n",
              "      <td>Grooming</td>\n",
              "      <td>Skin &amp; Coat Care</td>\n",
              "      <td>Shampoo</td>\n",
              "      <td>PSOEH3ZYDMSYARJ5</td>\n",
              "      <td>220</td>\n",
              "      <td>210</td>\n",
              "      <td>5.0</td>\n",
              "      <td>Sicons</td>\n",
              "      <td>{\"product_specification\"=&gt;[{\"key\"=&gt;\"Pet Type\",...</td>\n",
              "      <td>Specifications of Sicons All Purpose Arnica Do...</td>\n",
              "    </tr>\n",
              "    <tr>\n",
              "      <th>5</th>\n",
              "      <td>ce5a6818f7707e2cb61fdcdbba61f5ad</td>\n",
              "      <td>East</td>\n",
              "      <td>25-12-2021</td>\n",
              "      <td>28-12-2021</td>\n",
              "      <td>27-12-2021</td>\n",
              "      <td>Alisha Solid Women's Cycling Shorts</td>\n",
              "      <td>Clothing</td>\n",
              "      <td>Women's Clothing</td>\n",
              "      <td>Lingerie, Sleep &amp; Swimwear</td>\n",
              "      <td>Shorts</td>\n",
              "      <td>SRTEH2FVVKRBAXHB</td>\n",
              "      <td>1199</td>\n",
              "      <td>479</td>\n",
              "      <td>4.0</td>\n",
              "      <td>Alisha</td>\n",
              "      <td>{\"product_specification\"=&gt;[{\"key\"=&gt;\"Number of ...</td>\n",
              "      <td>Key Features of Alisha Solid Women's Cycling S...</td>\n",
              "    </tr>\n",
              "    <tr>\n",
              "      <th>6</th>\n",
              "      <td>8542703ca9e6ebdf6d742638dfb1f2ca</td>\n",
              "      <td>East</td>\n",
              "      <td>25-12-2021</td>\n",
              "      <td>28-12-2021</td>\n",
              "      <td>27-12-2021</td>\n",
              "      <td>FabHomeDecor Fabric Double Sofa Bed</td>\n",
              "      <td>Furniture</td>\n",
              "      <td>Living Room Furniture</td>\n",
              "      <td>Sofa Beds &amp; Futons</td>\n",
              "      <td>FabHomeDecor Fabric Double Sofa Bed (Finish C...</td>\n",
              "      <td>SBEEH3QGYGHFUEXN</td>\n",
              "      <td>32157</td>\n",
              "      <td>22646</td>\n",
              "      <td>2.0</td>\n",
              "      <td>FabHomeDecor</td>\n",
              "      <td>{\"product_specification\"=&gt;[{\"key\"=&gt;\"Installati...</td>\n",
              "      <td>FabHomeDecor Fabric Double Sofa Bed (Finish Co...</td>\n",
              "    </tr>\n",
              "    <tr>\n",
              "      <th>7</th>\n",
              "      <td>29c8d290caa451f97b1c32df64477a2c</td>\n",
              "      <td>North</td>\n",
              "      <td>25-12-2021</td>\n",
              "      <td>28-12-2021</td>\n",
              "      <td>27-12-2021</td>\n",
              "      <td>dilli bazaaar Bellies, Corporate Casuals, Casuals</td>\n",
              "      <td>Footwear</td>\n",
              "      <td>Women's Footwear</td>\n",
              "      <td>Ballerinas</td>\n",
              "      <td>dilli bazaaar Bellies, Corporate Casuals, Cas...</td>\n",
              "      <td>SHOEH3DZBFR88SCK</td>\n",
              "      <td>699</td>\n",
              "      <td>349</td>\n",
              "      <td>5.0</td>\n",
              "      <td>dilli bazaaar</td>\n",
              "      <td>{\"product_specification\"=&gt;[{\"key\"=&gt;\"Occasion\",...</td>\n",
              "      <td>Key Features of dilli bazaaar Bellies, Corpora...</td>\n",
              "    </tr>\n",
              "    <tr>\n",
              "      <th>8</th>\n",
              "      <td>4044c0ac52c1ee4b28777417651faf42</td>\n",
              "      <td>East</td>\n",
              "      <td>25-12-2021</td>\n",
              "      <td>28-12-2021</td>\n",
              "      <td>27-12-2021</td>\n",
              "      <td>Alisha Solid Women's Cycling Shorts</td>\n",
              "      <td>Clothing</td>\n",
              "      <td>Women's Clothing</td>\n",
              "      <td>Lingerie, Sleep &amp; Swimwear</td>\n",
              "      <td>Shorts</td>\n",
              "      <td>SRTEH2FVUHAAVH9X</td>\n",
              "      <td>1199</td>\n",
              "      <td>479</td>\n",
              "      <td>1.0</td>\n",
              "      <td>Alisha</td>\n",
              "      <td>{\"product_specification\"=&gt;[{\"key\"=&gt;\"Number of ...</td>\n",
              "      <td>Key Features of Alisha Solid Women's Cycling S...</td>\n",
              "    </tr>\n",
              "    <tr>\n",
              "      <th>9</th>\n",
              "      <td>e54bc0a7c3429da2ebef0b30331fe3d2</td>\n",
              "      <td>East</td>\n",
              "      <td>25-12-2021</td>\n",
              "      <td>28-12-2021</td>\n",
              "      <td>27-12-2021</td>\n",
              "      <td>Ladela Bellies</td>\n",
              "      <td>Footwear</td>\n",
              "      <td>Women's Footwear</td>\n",
              "      <td>Ballerinas</td>\n",
              "      <td>Ladela Bellies</td>\n",
              "      <td>SHOEH4KM2W3Z6EH5</td>\n",
              "      <td>1724</td>\n",
              "      <td>950</td>\n",
              "      <td>5.0</td>\n",
              "      <td>Ladela</td>\n",
              "      <td>{\"product_specification\"=&gt;[{\"key\"=&gt;\"Occasion\",...</td>\n",
              "      <td>Key Features of Ladela Bellies Brand: LADELA C...</td>\n",
              "    </tr>\n",
              "  </tbody>\n",
              "</table>\n",
              "</div>\n",
              "      <button class=\"colab-df-convert\" onclick=\"convertToInteractive('df-bfc0afb9-de10-4dd0-a955-643b76cc64c6')\"\n",
              "              title=\"Convert this dataframe to an interactive table.\"\n",
              "              style=\"display:none;\">\n",
              "        \n",
              "  <svg xmlns=\"http://www.w3.org/2000/svg\" height=\"24px\"viewBox=\"0 0 24 24\"\n",
              "       width=\"24px\">\n",
              "    <path d=\"M0 0h24v24H0V0z\" fill=\"none\"/>\n",
              "    <path d=\"M18.56 5.44l.94 2.06.94-2.06 2.06-.94-2.06-.94-.94-2.06-.94 2.06-2.06.94zm-11 1L8.5 8.5l.94-2.06 2.06-.94-2.06-.94L8.5 2.5l-.94 2.06-2.06.94zm10 10l.94 2.06.94-2.06 2.06-.94-2.06-.94-.94-2.06-.94 2.06-2.06.94z\"/><path d=\"M17.41 7.96l-1.37-1.37c-.4-.4-.92-.59-1.43-.59-.52 0-1.04.2-1.43.59L10.3 9.45l-7.72 7.72c-.78.78-.78 2.05 0 2.83L4 21.41c.39.39.9.59 1.41.59.51 0 1.02-.2 1.41-.59l7.78-7.78 2.81-2.81c.8-.78.8-2.07 0-2.86zM5.41 20L4 18.59l7.72-7.72 1.47 1.35L5.41 20z\"/>\n",
              "  </svg>\n",
              "      </button>\n",
              "      \n",
              "  <style>\n",
              "    .colab-df-container {\n",
              "      display:flex;\n",
              "      flex-wrap:wrap;\n",
              "      gap: 12px;\n",
              "    }\n",
              "\n",
              "    .colab-df-convert {\n",
              "      background-color: #E8F0FE;\n",
              "      border: none;\n",
              "      border-radius: 50%;\n",
              "      cursor: pointer;\n",
              "      display: none;\n",
              "      fill: #1967D2;\n",
              "      height: 32px;\n",
              "      padding: 0 0 0 0;\n",
              "      width: 32px;\n",
              "    }\n",
              "\n",
              "    .colab-df-convert:hover {\n",
              "      background-color: #E2EBFA;\n",
              "      box-shadow: 0px 1px 2px rgba(60, 64, 67, 0.3), 0px 1px 3px 1px rgba(60, 64, 67, 0.15);\n",
              "      fill: #174EA6;\n",
              "    }\n",
              "\n",
              "    [theme=dark] .colab-df-convert {\n",
              "      background-color: #3B4455;\n",
              "      fill: #D2E3FC;\n",
              "    }\n",
              "\n",
              "    [theme=dark] .colab-df-convert:hover {\n",
              "      background-color: #434B5C;\n",
              "      box-shadow: 0px 1px 3px 1px rgba(0, 0, 0, 0.15);\n",
              "      filter: drop-shadow(0px 1px 2px rgba(0, 0, 0, 0.3));\n",
              "      fill: #FFFFFF;\n",
              "    }\n",
              "  </style>\n",
              "\n",
              "      <script>\n",
              "        const buttonEl =\n",
              "          document.querySelector('#df-bfc0afb9-de10-4dd0-a955-643b76cc64c6 button.colab-df-convert');\n",
              "        buttonEl.style.display =\n",
              "          google.colab.kernel.accessAllowed ? 'block' : 'none';\n",
              "\n",
              "        async function convertToInteractive(key) {\n",
              "          const element = document.querySelector('#df-bfc0afb9-de10-4dd0-a955-643b76cc64c6');\n",
              "          const dataTable =\n",
              "            await google.colab.kernel.invokeFunction('convertToInteractive',\n",
              "                                                     [key], {});\n",
              "          if (!dataTable) return;\n",
              "\n",
              "          const docLinkHtml = 'Like what you see? Visit the ' +\n",
              "            '<a target=\"_blank\" href=https://colab.research.google.com/notebooks/data_table.ipynb>data table notebook</a>'\n",
              "            + ' to learn more about interactive tables.';\n",
              "          element.innerHTML = '';\n",
              "          dataTable['output_type'] = 'display_data';\n",
              "          await google.colab.output.renderOutput(dataTable, element);\n",
              "          const docLink = document.createElement('div');\n",
              "          docLink.innerHTML = docLinkHtml;\n",
              "          element.appendChild(docLink);\n",
              "        }\n",
              "      </script>\n",
              "    </div>\n",
              "  </div>\n",
              "  "
            ]
          },
          "metadata": {},
          "execution_count": 57
        }
      ],
      "source": [
        "ECom_Data.head(10)"
      ]
    },
    {
      "cell_type": "markdown",
      "source": [
        "Using df.head() method we can get the first n records of the data. so here we are using ECom_Data as our dataframe and defining n as 10 as we want first 10 records."
      ],
      "metadata": {
        "id": "VRogNZKrHwjQ"
      },
      "id": "VRogNZKrHwjQ"
    },
    {
      "cell_type": "code",
      "source": [
        "ECom_Data.tail(10)"
      ],
      "metadata": {
        "colab": {
          "base_uri": "https://localhost:8080/",
          "height": 1000
        },
        "id": "6iVTTY8i-K0H",
        "outputId": "b78285d0-217e-48ea-86b9-f6890d3590ba"
      },
      "id": "6iVTTY8i-K0H",
      "execution_count": null,
      "outputs": [
        {
          "output_type": "execute_result",
          "data": {
            "text/plain": [
              "                      Customer_uniq_id Region  Order_Date  \\\n",
              "8917  4db03bc4ccbe216cf151b2f2b904ba3f  East   01-12-2020   \n",
              "8918  4d4d6aeb13fa253499d0dd45a5abd87e   West  01-12-2020   \n",
              "8919  ea19e7ef703293d3f6c799ca9db4642d   West  01-12-2020   \n",
              "8920  19a53a958992fb575acffb5d41e7ef9e  East   01-12-2020   \n",
              "8921  09abab80c8dfdc6f268e0a6f05a0be11  North  01-12-2020   \n",
              "8922  90d30478255e23621e8929ed15c2f6e4  South  01-12-2020   \n",
              "8923  20a73e3f41490a73ceeba5f17658db8f   West  01-12-2020   \n",
              "8924  5c1554cd45f9d538c2c6947dbdd59c75  East   01-12-2020   \n",
              "8925  6b737a4deca1ed0e56c179e66036e994   West  01-12-2020   \n",
              "8926  a5235ac28d3d5487f54025f9d6b57433  North  01-12-2020   \n",
              "\n",
              "     Expected_Delivery_Date Delivered_Date  \\\n",
              "8917             04-12-2020     04-12-2020   \n",
              "8918             04-12-2020     04-12-2020   \n",
              "8919             04-12-2020     04-12-2020   \n",
              "8920             04-12-2020     04-12-2020   \n",
              "8921             04-12-2020     04-12-2020   \n",
              "8922             04-12-2020     04-12-2020   \n",
              "8923             04-12-2020     04-12-2020   \n",
              "8924             04-12-2020     04-12-2020   \n",
              "8925             04-12-2020     04-12-2020   \n",
              "8926             04-12-2020     04-12-2020   \n",
              "\n",
              "                                           product_name product_main_category  \\\n",
              "8917                           Luca Fashion Girls Heels             Footwear    \n",
              "8918                            Shoetopia Girls Sandals             Footwear    \n",
              "8919                        SMART TRADERS Girls Sandals             Footwear    \n",
              "8920                                  Beanz Girls Flats             Footwear    \n",
              "8921                       Nova KT 728S Electric Kettle       Home & Kitchen    \n",
              "8922  Sinina Chanderi Embroidered Salwar Suit Dupatt...             Clothing    \n",
              "8923  Aarushi Fashion Chanderi Embroidered Salwar Su...             Clothing    \n",
              "8924  Ambika Lahenga Embroidered Lehenga, Choli and ...             Clothing    \n",
              "8925  Sinina Chanderi Embroidered Salwar Suit Dupatt...             Clothing    \n",
              "8926  Aarushi Fashion Silk Striped Salwar Suit Dupat...             Clothing    \n",
              "\n",
              "            product_subcategory                product_category_filter  \\\n",
              "8917   Kids' & Infant Footwear                              For Girls    \n",
              "8918   Kids' & Infant Footwear                              For Girls    \n",
              "8919   Kids' & Infant Footwear                              For Girls    \n",
              "8920   Kids' & Infant Footwear                              For Girls    \n",
              "8921        Kitchen Appliances    Electric Jug(heater)/Travel Kettles    \n",
              "8922          Women's Clothing                            Ethnic Wear    \n",
              "8923          Women's Clothing                            Ethnic Wear    \n",
              "8924          Women's Clothing                            Ethnic Wear    \n",
              "8925          Women's Clothing                            Ethnic Wear    \n",
              "8926          Women's Clothing                            Ethnic Wear    \n",
              "\n",
              "                      product_category_subfilter product_unique ID  \\\n",
              "8917                                    Sandals   SNDEHG3DNVBFGAT5   \n",
              "8918                                    Sandals   SNDEG7DRWSX8HFXZ   \n",
              "8919                                    Sandals   SNDEG7MZHHKZ58D2   \n",
              "8920                                    Sandals   SNDEG7DYVFWHZBC4   \n",
              "8921   Nova Electric Jug(heater)/Travel Kettles   EKTDG5C5QSADZZ8J   \n",
              "8922                                     Fabric   FABEGGHHDFMY8BZU   \n",
              "8923                                     Fabric   FABEG8GFDUWRSNU3   \n",
              "8924                             Lehenga Cholis   LEHEGGEHYN4G2RPW   \n",
              "8925                                     Fabric   FABEGGHHGSVCHGFV   \n",
              "8926                                     Fabric   FABEG8GYDAABECZH   \n",
              "\n",
              "      retail_price  discounted_price  product_rating            Brand  \\\n",
              "8917           999               499             4.0     Luca Fashion   \n",
              "8918           499               399             4.0        Shoetopia   \n",
              "8919           999               499             5.0    SMART TRADERS   \n",
              "8920          1299              1299             3.0            Beanz   \n",
              "8921          3195               699             3.6             Nova   \n",
              "8922          2980              1490             3.0           Sinina   \n",
              "8923          2600              1300             1.0  Aarushi Fashion   \n",
              "8924         39992             24995             1.0   Ambika Lahenga   \n",
              "8925          2000              1000             3.0           Sinina   \n",
              "8926          2800              1350             4.0  Aarushi Fashion   \n",
              "\n",
              "                                 product_specifications  \\\n",
              "8917  {\"product_specification\"=>[{\"key\"=>\"Occasion\",...   \n",
              "8918  {\"product_specification\"=>[{\"key\"=>\"Ideal For\"...   \n",
              "8919  {\"product_specification\"=>[{\"key\"=>\"Ideal For\"...   \n",
              "8920  {\"product_specification\"=>[{\"key\"=>\"Occasion\",...   \n",
              "8921  {\"product_specification\"=>[{\"key\"=>\"Brand\", \"v...   \n",
              "8922  {\"product_specification\"=>[{\"key\"=>\"Fabric\", \"...   \n",
              "8923  {\"product_specification\"=>[{\"key\"=>\"Fabric\", \"...   \n",
              "8924  {\"product_specification\"=>[{\"key\"=>\"Fabric\", \"...   \n",
              "8925  {\"product_specification\"=>[{\"key\"=>\"Fabric\", \"...   \n",
              "8926  {\"product_specification\"=>[{\"key\"=>\"Fabric\", \"...   \n",
              "\n",
              "                                            description  \n",
              "8917  Key Features of Luca Fashion Girls Heels Occas...  \n",
              "8918  Key Features of Shoetopia Girls Sandals Flats ...  \n",
              "8919  Key Features of SMART TRADERS Girls Sandals Oc...  \n",
              "8920  Key Features of Beanz Girls Flats Occasion: Ca...  \n",
              "8921  Specifications of Nova KT 728S Electric Kettle...  \n",
              "8922  Key Features of Sinina Chanderi Embroidered Sa...  \n",
              "8923  Key Features of Aarushi Fashion Chanderi Embro...  \n",
              "8924  Key Features of Ambika Lahenga Embroidered Leh...  \n",
              "8925  Key Features of Sinina Chanderi Embroidered Sa...  \n",
              "8926  Key Features of Aarushi Fashion Silk Striped S...  "
            ],
            "text/html": [
              "\n",
              "  <div id=\"df-2b8321a5-be30-4bee-bc96-cdde8ed8fd61\">\n",
              "    <div class=\"colab-df-container\">\n",
              "      <div>\n",
              "<style scoped>\n",
              "    .dataframe tbody tr th:only-of-type {\n",
              "        vertical-align: middle;\n",
              "    }\n",
              "\n",
              "    .dataframe tbody tr th {\n",
              "        vertical-align: top;\n",
              "    }\n",
              "\n",
              "    .dataframe thead th {\n",
              "        text-align: right;\n",
              "    }\n",
              "</style>\n",
              "<table border=\"1\" class=\"dataframe\">\n",
              "  <thead>\n",
              "    <tr style=\"text-align: right;\">\n",
              "      <th></th>\n",
              "      <th>Customer_uniq_id</th>\n",
              "      <th>Region</th>\n",
              "      <th>Order_Date</th>\n",
              "      <th>Expected_Delivery_Date</th>\n",
              "      <th>Delivered_Date</th>\n",
              "      <th>product_name</th>\n",
              "      <th>product_main_category</th>\n",
              "      <th>product_subcategory</th>\n",
              "      <th>product_category_filter</th>\n",
              "      <th>product_category_subfilter</th>\n",
              "      <th>product_unique ID</th>\n",
              "      <th>retail_price</th>\n",
              "      <th>discounted_price</th>\n",
              "      <th>product_rating</th>\n",
              "      <th>Brand</th>\n",
              "      <th>product_specifications</th>\n",
              "      <th>description</th>\n",
              "    </tr>\n",
              "  </thead>\n",
              "  <tbody>\n",
              "    <tr>\n",
              "      <th>8917</th>\n",
              "      <td>4db03bc4ccbe216cf151b2f2b904ba3f</td>\n",
              "      <td>East</td>\n",
              "      <td>01-12-2020</td>\n",
              "      <td>04-12-2020</td>\n",
              "      <td>04-12-2020</td>\n",
              "      <td>Luca Fashion Girls Heels</td>\n",
              "      <td>Footwear</td>\n",
              "      <td>Kids' &amp; Infant Footwear</td>\n",
              "      <td>For Girls</td>\n",
              "      <td>Sandals</td>\n",
              "      <td>SNDEHG3DNVBFGAT5</td>\n",
              "      <td>999</td>\n",
              "      <td>499</td>\n",
              "      <td>4.0</td>\n",
              "      <td>Luca Fashion</td>\n",
              "      <td>{\"product_specification\"=&gt;[{\"key\"=&gt;\"Occasion\",...</td>\n",
              "      <td>Key Features of Luca Fashion Girls Heels Occas...</td>\n",
              "    </tr>\n",
              "    <tr>\n",
              "      <th>8918</th>\n",
              "      <td>4d4d6aeb13fa253499d0dd45a5abd87e</td>\n",
              "      <td>West</td>\n",
              "      <td>01-12-2020</td>\n",
              "      <td>04-12-2020</td>\n",
              "      <td>04-12-2020</td>\n",
              "      <td>Shoetopia Girls Sandals</td>\n",
              "      <td>Footwear</td>\n",
              "      <td>Kids' &amp; Infant Footwear</td>\n",
              "      <td>For Girls</td>\n",
              "      <td>Sandals</td>\n",
              "      <td>SNDEG7DRWSX8HFXZ</td>\n",
              "      <td>499</td>\n",
              "      <td>399</td>\n",
              "      <td>4.0</td>\n",
              "      <td>Shoetopia</td>\n",
              "      <td>{\"product_specification\"=&gt;[{\"key\"=&gt;\"Ideal For\"...</td>\n",
              "      <td>Key Features of Shoetopia Girls Sandals Flats ...</td>\n",
              "    </tr>\n",
              "    <tr>\n",
              "      <th>8919</th>\n",
              "      <td>ea19e7ef703293d3f6c799ca9db4642d</td>\n",
              "      <td>West</td>\n",
              "      <td>01-12-2020</td>\n",
              "      <td>04-12-2020</td>\n",
              "      <td>04-12-2020</td>\n",
              "      <td>SMART TRADERS Girls Sandals</td>\n",
              "      <td>Footwear</td>\n",
              "      <td>Kids' &amp; Infant Footwear</td>\n",
              "      <td>For Girls</td>\n",
              "      <td>Sandals</td>\n",
              "      <td>SNDEG7MZHHKZ58D2</td>\n",
              "      <td>999</td>\n",
              "      <td>499</td>\n",
              "      <td>5.0</td>\n",
              "      <td>SMART TRADERS</td>\n",
              "      <td>{\"product_specification\"=&gt;[{\"key\"=&gt;\"Ideal For\"...</td>\n",
              "      <td>Key Features of SMART TRADERS Girls Sandals Oc...</td>\n",
              "    </tr>\n",
              "    <tr>\n",
              "      <th>8920</th>\n",
              "      <td>19a53a958992fb575acffb5d41e7ef9e</td>\n",
              "      <td>East</td>\n",
              "      <td>01-12-2020</td>\n",
              "      <td>04-12-2020</td>\n",
              "      <td>04-12-2020</td>\n",
              "      <td>Beanz Girls Flats</td>\n",
              "      <td>Footwear</td>\n",
              "      <td>Kids' &amp; Infant Footwear</td>\n",
              "      <td>For Girls</td>\n",
              "      <td>Sandals</td>\n",
              "      <td>SNDEG7DYVFWHZBC4</td>\n",
              "      <td>1299</td>\n",
              "      <td>1299</td>\n",
              "      <td>3.0</td>\n",
              "      <td>Beanz</td>\n",
              "      <td>{\"product_specification\"=&gt;[{\"key\"=&gt;\"Occasion\",...</td>\n",
              "      <td>Key Features of Beanz Girls Flats Occasion: Ca...</td>\n",
              "    </tr>\n",
              "    <tr>\n",
              "      <th>8921</th>\n",
              "      <td>09abab80c8dfdc6f268e0a6f05a0be11</td>\n",
              "      <td>North</td>\n",
              "      <td>01-12-2020</td>\n",
              "      <td>04-12-2020</td>\n",
              "      <td>04-12-2020</td>\n",
              "      <td>Nova KT 728S Electric Kettle</td>\n",
              "      <td>Home &amp; Kitchen</td>\n",
              "      <td>Kitchen Appliances</td>\n",
              "      <td>Electric Jug(heater)/Travel Kettles</td>\n",
              "      <td>Nova Electric Jug(heater)/Travel Kettles</td>\n",
              "      <td>EKTDG5C5QSADZZ8J</td>\n",
              "      <td>3195</td>\n",
              "      <td>699</td>\n",
              "      <td>3.6</td>\n",
              "      <td>Nova</td>\n",
              "      <td>{\"product_specification\"=&gt;[{\"key\"=&gt;\"Brand\", \"v...</td>\n",
              "      <td>Specifications of Nova KT 728S Electric Kettle...</td>\n",
              "    </tr>\n",
              "    <tr>\n",
              "      <th>8922</th>\n",
              "      <td>90d30478255e23621e8929ed15c2f6e4</td>\n",
              "      <td>South</td>\n",
              "      <td>01-12-2020</td>\n",
              "      <td>04-12-2020</td>\n",
              "      <td>04-12-2020</td>\n",
              "      <td>Sinina Chanderi Embroidered Salwar Suit Dupatt...</td>\n",
              "      <td>Clothing</td>\n",
              "      <td>Women's Clothing</td>\n",
              "      <td>Ethnic Wear</td>\n",
              "      <td>Fabric</td>\n",
              "      <td>FABEGGHHDFMY8BZU</td>\n",
              "      <td>2980</td>\n",
              "      <td>1490</td>\n",
              "      <td>3.0</td>\n",
              "      <td>Sinina</td>\n",
              "      <td>{\"product_specification\"=&gt;[{\"key\"=&gt;\"Fabric\", \"...</td>\n",
              "      <td>Key Features of Sinina Chanderi Embroidered Sa...</td>\n",
              "    </tr>\n",
              "    <tr>\n",
              "      <th>8923</th>\n",
              "      <td>20a73e3f41490a73ceeba5f17658db8f</td>\n",
              "      <td>West</td>\n",
              "      <td>01-12-2020</td>\n",
              "      <td>04-12-2020</td>\n",
              "      <td>04-12-2020</td>\n",
              "      <td>Aarushi Fashion Chanderi Embroidered Salwar Su...</td>\n",
              "      <td>Clothing</td>\n",
              "      <td>Women's Clothing</td>\n",
              "      <td>Ethnic Wear</td>\n",
              "      <td>Fabric</td>\n",
              "      <td>FABEG8GFDUWRSNU3</td>\n",
              "      <td>2600</td>\n",
              "      <td>1300</td>\n",
              "      <td>1.0</td>\n",
              "      <td>Aarushi Fashion</td>\n",
              "      <td>{\"product_specification\"=&gt;[{\"key\"=&gt;\"Fabric\", \"...</td>\n",
              "      <td>Key Features of Aarushi Fashion Chanderi Embro...</td>\n",
              "    </tr>\n",
              "    <tr>\n",
              "      <th>8924</th>\n",
              "      <td>5c1554cd45f9d538c2c6947dbdd59c75</td>\n",
              "      <td>East</td>\n",
              "      <td>01-12-2020</td>\n",
              "      <td>04-12-2020</td>\n",
              "      <td>04-12-2020</td>\n",
              "      <td>Ambika Lahenga Embroidered Lehenga, Choli and ...</td>\n",
              "      <td>Clothing</td>\n",
              "      <td>Women's Clothing</td>\n",
              "      <td>Ethnic Wear</td>\n",
              "      <td>Lehenga Cholis</td>\n",
              "      <td>LEHEGGEHYN4G2RPW</td>\n",
              "      <td>39992</td>\n",
              "      <td>24995</td>\n",
              "      <td>1.0</td>\n",
              "      <td>Ambika Lahenga</td>\n",
              "      <td>{\"product_specification\"=&gt;[{\"key\"=&gt;\"Fabric\", \"...</td>\n",
              "      <td>Key Features of Ambika Lahenga Embroidered Leh...</td>\n",
              "    </tr>\n",
              "    <tr>\n",
              "      <th>8925</th>\n",
              "      <td>6b737a4deca1ed0e56c179e66036e994</td>\n",
              "      <td>West</td>\n",
              "      <td>01-12-2020</td>\n",
              "      <td>04-12-2020</td>\n",
              "      <td>04-12-2020</td>\n",
              "      <td>Sinina Chanderi Embroidered Salwar Suit Dupatt...</td>\n",
              "      <td>Clothing</td>\n",
              "      <td>Women's Clothing</td>\n",
              "      <td>Ethnic Wear</td>\n",
              "      <td>Fabric</td>\n",
              "      <td>FABEGGHHGSVCHGFV</td>\n",
              "      <td>2000</td>\n",
              "      <td>1000</td>\n",
              "      <td>3.0</td>\n",
              "      <td>Sinina</td>\n",
              "      <td>{\"product_specification\"=&gt;[{\"key\"=&gt;\"Fabric\", \"...</td>\n",
              "      <td>Key Features of Sinina Chanderi Embroidered Sa...</td>\n",
              "    </tr>\n",
              "    <tr>\n",
              "      <th>8926</th>\n",
              "      <td>a5235ac28d3d5487f54025f9d6b57433</td>\n",
              "      <td>North</td>\n",
              "      <td>01-12-2020</td>\n",
              "      <td>04-12-2020</td>\n",
              "      <td>04-12-2020</td>\n",
              "      <td>Aarushi Fashion Silk Striped Salwar Suit Dupat...</td>\n",
              "      <td>Clothing</td>\n",
              "      <td>Women's Clothing</td>\n",
              "      <td>Ethnic Wear</td>\n",
              "      <td>Fabric</td>\n",
              "      <td>FABEG8GYDAABECZH</td>\n",
              "      <td>2800</td>\n",
              "      <td>1350</td>\n",
              "      <td>4.0</td>\n",
              "      <td>Aarushi Fashion</td>\n",
              "      <td>{\"product_specification\"=&gt;[{\"key\"=&gt;\"Fabric\", \"...</td>\n",
              "      <td>Key Features of Aarushi Fashion Silk Striped S...</td>\n",
              "    </tr>\n",
              "  </tbody>\n",
              "</table>\n",
              "</div>\n",
              "      <button class=\"colab-df-convert\" onclick=\"convertToInteractive('df-2b8321a5-be30-4bee-bc96-cdde8ed8fd61')\"\n",
              "              title=\"Convert this dataframe to an interactive table.\"\n",
              "              style=\"display:none;\">\n",
              "        \n",
              "  <svg xmlns=\"http://www.w3.org/2000/svg\" height=\"24px\"viewBox=\"0 0 24 24\"\n",
              "       width=\"24px\">\n",
              "    <path d=\"M0 0h24v24H0V0z\" fill=\"none\"/>\n",
              "    <path d=\"M18.56 5.44l.94 2.06.94-2.06 2.06-.94-2.06-.94-.94-2.06-.94 2.06-2.06.94zm-11 1L8.5 8.5l.94-2.06 2.06-.94-2.06-.94L8.5 2.5l-.94 2.06-2.06.94zm10 10l.94 2.06.94-2.06 2.06-.94-2.06-.94-.94-2.06-.94 2.06-2.06.94z\"/><path d=\"M17.41 7.96l-1.37-1.37c-.4-.4-.92-.59-1.43-.59-.52 0-1.04.2-1.43.59L10.3 9.45l-7.72 7.72c-.78.78-.78 2.05 0 2.83L4 21.41c.39.39.9.59 1.41.59.51 0 1.02-.2 1.41-.59l7.78-7.78 2.81-2.81c.8-.78.8-2.07 0-2.86zM5.41 20L4 18.59l7.72-7.72 1.47 1.35L5.41 20z\"/>\n",
              "  </svg>\n",
              "      </button>\n",
              "      \n",
              "  <style>\n",
              "    .colab-df-container {\n",
              "      display:flex;\n",
              "      flex-wrap:wrap;\n",
              "      gap: 12px;\n",
              "    }\n",
              "\n",
              "    .colab-df-convert {\n",
              "      background-color: #E8F0FE;\n",
              "      border: none;\n",
              "      border-radius: 50%;\n",
              "      cursor: pointer;\n",
              "      display: none;\n",
              "      fill: #1967D2;\n",
              "      height: 32px;\n",
              "      padding: 0 0 0 0;\n",
              "      width: 32px;\n",
              "    }\n",
              "\n",
              "    .colab-df-convert:hover {\n",
              "      background-color: #E2EBFA;\n",
              "      box-shadow: 0px 1px 2px rgba(60, 64, 67, 0.3), 0px 1px 3px 1px rgba(60, 64, 67, 0.15);\n",
              "      fill: #174EA6;\n",
              "    }\n",
              "\n",
              "    [theme=dark] .colab-df-convert {\n",
              "      background-color: #3B4455;\n",
              "      fill: #D2E3FC;\n",
              "    }\n",
              "\n",
              "    [theme=dark] .colab-df-convert:hover {\n",
              "      background-color: #434B5C;\n",
              "      box-shadow: 0px 1px 3px 1px rgba(0, 0, 0, 0.15);\n",
              "      filter: drop-shadow(0px 1px 2px rgba(0, 0, 0, 0.3));\n",
              "      fill: #FFFFFF;\n",
              "    }\n",
              "  </style>\n",
              "\n",
              "      <script>\n",
              "        const buttonEl =\n",
              "          document.querySelector('#df-2b8321a5-be30-4bee-bc96-cdde8ed8fd61 button.colab-df-convert');\n",
              "        buttonEl.style.display =\n",
              "          google.colab.kernel.accessAllowed ? 'block' : 'none';\n",
              "\n",
              "        async function convertToInteractive(key) {\n",
              "          const element = document.querySelector('#df-2b8321a5-be30-4bee-bc96-cdde8ed8fd61');\n",
              "          const dataTable =\n",
              "            await google.colab.kernel.invokeFunction('convertToInteractive',\n",
              "                                                     [key], {});\n",
              "          if (!dataTable) return;\n",
              "\n",
              "          const docLinkHtml = 'Like what you see? Visit the ' +\n",
              "            '<a target=\"_blank\" href=https://colab.research.google.com/notebooks/data_table.ipynb>data table notebook</a>'\n",
              "            + ' to learn more about interactive tables.';\n",
              "          element.innerHTML = '';\n",
              "          dataTable['output_type'] = 'display_data';\n",
              "          await google.colab.output.renderOutput(dataTable, element);\n",
              "          const docLink = document.createElement('div');\n",
              "          docLink.innerHTML = docLinkHtml;\n",
              "          element.appendChild(docLink);\n",
              "        }\n",
              "      </script>\n",
              "    </div>\n",
              "  </div>\n",
              "  "
            ]
          },
          "metadata": {},
          "execution_count": 58
        }
      ]
    },
    {
      "cell_type": "markdown",
      "source": [
        "Using df.tail() method we can get the last n records of the data. so here we are using ECom_Data as our dataframe and defining n as 10 as we want last 10 records."
      ],
      "metadata": {
        "id": "OV0l6rCyH4uN"
      },
      "id": "OV0l6rCyH4uN"
    },
    {
      "cell_type": "markdown",
      "id": "48baeda6",
      "metadata": {
        "id": "48baeda6"
      },
      "source": [
        "#### Ans 1 b)"
      ]
    },
    {
      "cell_type": "code",
      "source": [
        "print('The number of rows are', len(ECom_Data.index));\n",
        "print('The number of columns are', len(ECom_Data.columns))"
      ],
      "metadata": {
        "colab": {
          "base_uri": "https://localhost:8080/"
        },
        "id": "s4vK0Ebc8S9V",
        "outputId": "ae9b7007-4a6e-4c52-df72-1df4844a8ca4"
      },
      "id": "s4vK0Ebc8S9V",
      "execution_count": null,
      "outputs": [
        {
          "output_type": "stream",
          "name": "stdout",
          "text": [
            "The number of rows are 8927\n",
            "The number of columns are 17\n"
          ]
        }
      ]
    },
    {
      "cell_type": "markdown",
      "source": [
        "Firstly we can use the len(df.index) for finding out the number of rows and for columns we can use len(df.columns), here df is ECom_Data."
      ],
      "metadata": {
        "id": "m-hZWqLXIFQZ"
      },
      "id": "m-hZWqLXIFQZ"
    },
    {
      "cell_type": "code",
      "source": [
        "print('The number od rows and columns are', ECom_Data.shape)"
      ],
      "metadata": {
        "colab": {
          "base_uri": "https://localhost:8080/"
        },
        "id": "qG5LBTUdHFVo",
        "outputId": "037d07c1-2501-4a6c-916f-daadcca2ddf0"
      },
      "id": "qG5LBTUdHFVo",
      "execution_count": null,
      "outputs": [
        {
          "output_type": "stream",
          "name": "stdout",
          "text": [
            "The number od rows and columns are (8927, 17)\n"
          ]
        }
      ]
    },
    {
      "cell_type": "markdown",
      "source": [
        "secondly we can use df.shape to get the number of rows and columns, here df is ECom_Data."
      ],
      "metadata": {
        "id": "4dFrzfbSIJK7"
      },
      "id": "4dFrzfbSIJK7"
    },
    {
      "cell_type": "markdown",
      "id": "6aaa54a0",
      "metadata": {
        "id": "6aaa54a0"
      },
      "source": [
        "#### Ans  1 c)"
      ]
    },
    {
      "cell_type": "code",
      "execution_count": null,
      "id": "115627b2",
      "metadata": {
        "colab": {
          "base_uri": "https://localhost:8080/"
        },
        "id": "115627b2",
        "outputId": "7ac3ac8e-00d6-4c36-fb82-1ac6502965f3"
      },
      "outputs": [
        {
          "output_type": "stream",
          "name": "stdout",
          "text": [
            "<class 'pandas.core.frame.DataFrame'>\n",
            "RangeIndex: 8927 entries, 0 to 8926\n",
            "Data columns (total 17 columns):\n",
            " #   Column                      Non-Null Count  Dtype  \n",
            "---  ------                      --------------  -----  \n",
            " 0   Customer_uniq_id            8927 non-null   object \n",
            " 1   Region                      8927 non-null   object \n",
            " 2   Order_Date                  8927 non-null   object \n",
            " 3   Expected_Delivery_Date      8927 non-null   object \n",
            " 4   Delivered_Date              8927 non-null   object \n",
            " 5   product_name                8927 non-null   object \n",
            " 6   product_main_category       8927 non-null   object \n",
            " 7   product_subcategory         8927 non-null   object \n",
            " 8   product_category_filter     8927 non-null   object \n",
            " 9   product_category_subfilter  8927 non-null   object \n",
            " 10  product_unique ID           8927 non-null   object \n",
            " 11  retail_price                8927 non-null   int64  \n",
            " 12  discounted_price            8927 non-null   int64  \n",
            " 13  product_rating              8927 non-null   float64\n",
            " 14  Brand                       8927 non-null   object \n",
            " 15  product_specifications      8927 non-null   object \n",
            " 16  description                 8927 non-null   object \n",
            "dtypes: float64(1), int64(2), object(14)\n",
            "memory usage: 1.2+ MB\n"
          ]
        }
      ],
      "source": [
        "ECom_Data.info()"
      ]
    },
    {
      "cell_type": "markdown",
      "source": [
        "Here we are using df.info() to get the object data type and also the numbers of each data type(df here is ECom_Data)."
      ],
      "metadata": {
        "id": "kRFwody6Hn-B"
      },
      "id": "kRFwody6Hn-B"
    },
    {
      "cell_type": "markdown",
      "id": "5e63573c",
      "metadata": {
        "id": "5e63573c"
      },
      "source": [
        "### Ans 1 d)"
      ]
    },
    {
      "cell_type": "markdown",
      "source": [
        "There is no boolean type as we can see from df.info()method(here df is ECom_Data)."
      ],
      "metadata": {
        "id": "p3rexzo2Ezk3"
      },
      "id": "p3rexzo2Ezk3"
    },
    {
      "cell_type": "markdown",
      "id": "cc5d76f1",
      "metadata": {
        "id": "cc5d76f1"
      },
      "source": [
        "<font color='blue'>\n",
        "    <font size = 5>\n",
        " Once you are familiar with the data, you may decide that not all features are of use to you and you may want to delete the non-informative features (columns)</font>"
      ]
    },
    {
      "cell_type": "markdown",
      "id": "90db65ce",
      "metadata": {
        "id": "90db65ce"
      },
      "source": [
        "## Q 2.\tEliminating the non-informative columns.\n",
        "## a)\tDrop the columns product_specifications and description. (2 marks) \n",
        "## b)\tWhich method or function is used to permanently delete the columns mentioned in part (a)? Write the code explicitly (2 marks)\n",
        "### Note: Use the markdown feature of Python to explain your answer.\n"
      ]
    },
    {
      "cell_type": "markdown",
      "id": "e0e7e762",
      "metadata": {
        "id": "e0e7e762"
      },
      "source": [
        "### Ans 2 a)"
      ]
    },
    {
      "cell_type": "code",
      "execution_count": null,
      "id": "35ad0821",
      "metadata": {
        "id": "35ad0821",
        "colab": {
          "base_uri": "https://localhost:8080/",
          "height": 956
        },
        "outputId": "4f02faee-41f8-4f80-f957-7f6f9ad71844"
      },
      "outputs": [
        {
          "output_type": "execute_result",
          "data": {
            "text/plain": [
              "                      Customer_uniq_id Region  Order_Date  \\\n",
              "0     c2d766ca982eca8304150849735ffef9  North  31-12-2021   \n",
              "1     7f7036a6d550aaa89d34c77bd39a5e48  East   31-12-2021   \n",
              "2     f449ec65dcbc041b6ae5e6a32717d01b  East   31-12-2021   \n",
              "3     0973b37acd0c664e3de26e97e5571454   West  31-12-2021   \n",
              "4     bc940ea42ee6bef5ac7cea3fb5cfbee7   West  31-12-2021   \n",
              "...                                ...    ...         ...   \n",
              "8922  90d30478255e23621e8929ed15c2f6e4  South  01-12-2020   \n",
              "8923  20a73e3f41490a73ceeba5f17658db8f   West  01-12-2020   \n",
              "8924  5c1554cd45f9d538c2c6947dbdd59c75  East   01-12-2020   \n",
              "8925  6b737a4deca1ed0e56c179e66036e994   West  01-12-2020   \n",
              "8926  a5235ac28d3d5487f54025f9d6b57433  North  01-12-2020   \n",
              "\n",
              "     Expected_Delivery_Date Delivered_Date  \\\n",
              "0                03-01-2022     02-01-2022   \n",
              "1                03-01-2022     02-01-2022   \n",
              "2                03-01-2022     02-01-2022   \n",
              "3                03-01-2022     02-01-2022   \n",
              "4                03-01-2022     02-01-2022   \n",
              "...                     ...            ...   \n",
              "8922             04-12-2020     04-12-2020   \n",
              "8923             04-12-2020     04-12-2020   \n",
              "8924             04-12-2020     04-12-2020   \n",
              "8925             04-12-2020     04-12-2020   \n",
              "8926             04-12-2020     04-12-2020   \n",
              "\n",
              "                                           product_name product_main_category  \\\n",
              "0                   Alisha Solid Women's Cycling Shorts             Clothing    \n",
              "1                   FabHomeDecor Fabric Double Sofa Bed            Furniture    \n",
              "2                                            AW Bellies             Footwear    \n",
              "3                   Alisha Solid Women's Cycling Shorts             Clothing    \n",
              "4                 Sicons All Purpose Arnica Dog Shampoo         Pet Supplies    \n",
              "...                                                 ...                   ...   \n",
              "8922  Sinina Chanderi Embroidered Salwar Suit Dupatt...             Clothing    \n",
              "8923  Aarushi Fashion Chanderi Embroidered Salwar Su...             Clothing    \n",
              "8924  Ambika Lahenga Embroidered Lehenga, Choli and ...             Clothing    \n",
              "8925  Sinina Chanderi Embroidered Salwar Suit Dupatt...             Clothing    \n",
              "8926  Aarushi Fashion Silk Striped Salwar Suit Dupat...             Clothing    \n",
              "\n",
              "          product_subcategory       product_category_filter  \\\n",
              "0           Women's Clothing    Lingerie, Sleep & Swimwear    \n",
              "1      Living Room Furniture            Sofa Beds & Futons    \n",
              "2           Women's Footwear                    Ballerinas    \n",
              "3           Women's Clothing    Lingerie, Sleep & Swimwear    \n",
              "4                   Grooming              Skin & Coat Care    \n",
              "...                       ...                           ...   \n",
              "8922        Women's Clothing                   Ethnic Wear    \n",
              "8923        Women's Clothing                   Ethnic Wear    \n",
              "8924        Women's Clothing                   Ethnic Wear    \n",
              "8925        Women's Clothing                   Ethnic Wear    \n",
              "8926        Women's Clothing                   Ethnic Wear    \n",
              "\n",
              "                             product_category_subfilter product_unique ID  \\\n",
              "0                                               Shorts   SRTEH2FF9KEDEFGF   \n",
              "1      FabHomeDecor Fabric Double Sofa Bed (Finish C...  SBEEH3QGU7MFYJFY   \n",
              "2                                            AW Bellies  SHOEH4GRSUBJGZXE   \n",
              "3                                               Shorts   SRTEH2F6HUZMQ6SJ   \n",
              "4                                              Shampoo   PSOEH3ZYDMSYARJ5   \n",
              "...                                                 ...               ...   \n",
              "8922                                            Fabric   FABEGGHHDFMY8BZU   \n",
              "8923                                            Fabric   FABEG8GFDUWRSNU3   \n",
              "8924                                    Lehenga Cholis   LEHEGGEHYN4G2RPW   \n",
              "8925                                            Fabric   FABEGGHHGSVCHGFV   \n",
              "8926                                            Fabric   FABEG8GYDAABECZH   \n",
              "\n",
              "      retail_price  discounted_price  product_rating            Brand  \n",
              "0              999               379             2.0           Alisha  \n",
              "1            32157             22646             2.0     FabHomeDecor  \n",
              "2              999               499             1.0               AW  \n",
              "3              699               267             5.0           Alisha  \n",
              "4              220               210             5.0           Sicons  \n",
              "...            ...               ...             ...              ...  \n",
              "8922          2980              1490             3.0           Sinina  \n",
              "8923          2600              1300             1.0  Aarushi Fashion  \n",
              "8924         39992             24995             1.0   Ambika Lahenga  \n",
              "8925          2000              1000             3.0           Sinina  \n",
              "8926          2800              1350             4.0  Aarushi Fashion  \n",
              "\n",
              "[8927 rows x 15 columns]"
            ],
            "text/html": [
              "\n",
              "  <div id=\"df-912d37a3-621c-4de5-895a-d10787ebbad2\">\n",
              "    <div class=\"colab-df-container\">\n",
              "      <div>\n",
              "<style scoped>\n",
              "    .dataframe tbody tr th:only-of-type {\n",
              "        vertical-align: middle;\n",
              "    }\n",
              "\n",
              "    .dataframe tbody tr th {\n",
              "        vertical-align: top;\n",
              "    }\n",
              "\n",
              "    .dataframe thead th {\n",
              "        text-align: right;\n",
              "    }\n",
              "</style>\n",
              "<table border=\"1\" class=\"dataframe\">\n",
              "  <thead>\n",
              "    <tr style=\"text-align: right;\">\n",
              "      <th></th>\n",
              "      <th>Customer_uniq_id</th>\n",
              "      <th>Region</th>\n",
              "      <th>Order_Date</th>\n",
              "      <th>Expected_Delivery_Date</th>\n",
              "      <th>Delivered_Date</th>\n",
              "      <th>product_name</th>\n",
              "      <th>product_main_category</th>\n",
              "      <th>product_subcategory</th>\n",
              "      <th>product_category_filter</th>\n",
              "      <th>product_category_subfilter</th>\n",
              "      <th>product_unique ID</th>\n",
              "      <th>retail_price</th>\n",
              "      <th>discounted_price</th>\n",
              "      <th>product_rating</th>\n",
              "      <th>Brand</th>\n",
              "    </tr>\n",
              "  </thead>\n",
              "  <tbody>\n",
              "    <tr>\n",
              "      <th>0</th>\n",
              "      <td>c2d766ca982eca8304150849735ffef9</td>\n",
              "      <td>North</td>\n",
              "      <td>31-12-2021</td>\n",
              "      <td>03-01-2022</td>\n",
              "      <td>02-01-2022</td>\n",
              "      <td>Alisha Solid Women's Cycling Shorts</td>\n",
              "      <td>Clothing</td>\n",
              "      <td>Women's Clothing</td>\n",
              "      <td>Lingerie, Sleep &amp; Swimwear</td>\n",
              "      <td>Shorts</td>\n",
              "      <td>SRTEH2FF9KEDEFGF</td>\n",
              "      <td>999</td>\n",
              "      <td>379</td>\n",
              "      <td>2.0</td>\n",
              "      <td>Alisha</td>\n",
              "    </tr>\n",
              "    <tr>\n",
              "      <th>1</th>\n",
              "      <td>7f7036a6d550aaa89d34c77bd39a5e48</td>\n",
              "      <td>East</td>\n",
              "      <td>31-12-2021</td>\n",
              "      <td>03-01-2022</td>\n",
              "      <td>02-01-2022</td>\n",
              "      <td>FabHomeDecor Fabric Double Sofa Bed</td>\n",
              "      <td>Furniture</td>\n",
              "      <td>Living Room Furniture</td>\n",
              "      <td>Sofa Beds &amp; Futons</td>\n",
              "      <td>FabHomeDecor Fabric Double Sofa Bed (Finish C...</td>\n",
              "      <td>SBEEH3QGU7MFYJFY</td>\n",
              "      <td>32157</td>\n",
              "      <td>22646</td>\n",
              "      <td>2.0</td>\n",
              "      <td>FabHomeDecor</td>\n",
              "    </tr>\n",
              "    <tr>\n",
              "      <th>2</th>\n",
              "      <td>f449ec65dcbc041b6ae5e6a32717d01b</td>\n",
              "      <td>East</td>\n",
              "      <td>31-12-2021</td>\n",
              "      <td>03-01-2022</td>\n",
              "      <td>02-01-2022</td>\n",
              "      <td>AW Bellies</td>\n",
              "      <td>Footwear</td>\n",
              "      <td>Women's Footwear</td>\n",
              "      <td>Ballerinas</td>\n",
              "      <td>AW Bellies</td>\n",
              "      <td>SHOEH4GRSUBJGZXE</td>\n",
              "      <td>999</td>\n",
              "      <td>499</td>\n",
              "      <td>1.0</td>\n",
              "      <td>AW</td>\n",
              "    </tr>\n",
              "    <tr>\n",
              "      <th>3</th>\n",
              "      <td>0973b37acd0c664e3de26e97e5571454</td>\n",
              "      <td>West</td>\n",
              "      <td>31-12-2021</td>\n",
              "      <td>03-01-2022</td>\n",
              "      <td>02-01-2022</td>\n",
              "      <td>Alisha Solid Women's Cycling Shorts</td>\n",
              "      <td>Clothing</td>\n",
              "      <td>Women's Clothing</td>\n",
              "      <td>Lingerie, Sleep &amp; Swimwear</td>\n",
              "      <td>Shorts</td>\n",
              "      <td>SRTEH2F6HUZMQ6SJ</td>\n",
              "      <td>699</td>\n",
              "      <td>267</td>\n",
              "      <td>5.0</td>\n",
              "      <td>Alisha</td>\n",
              "    </tr>\n",
              "    <tr>\n",
              "      <th>4</th>\n",
              "      <td>bc940ea42ee6bef5ac7cea3fb5cfbee7</td>\n",
              "      <td>West</td>\n",
              "      <td>31-12-2021</td>\n",
              "      <td>03-01-2022</td>\n",
              "      <td>02-01-2022</td>\n",
              "      <td>Sicons All Purpose Arnica Dog Shampoo</td>\n",
              "      <td>Pet Supplies</td>\n",
              "      <td>Grooming</td>\n",
              "      <td>Skin &amp; Coat Care</td>\n",
              "      <td>Shampoo</td>\n",
              "      <td>PSOEH3ZYDMSYARJ5</td>\n",
              "      <td>220</td>\n",
              "      <td>210</td>\n",
              "      <td>5.0</td>\n",
              "      <td>Sicons</td>\n",
              "    </tr>\n",
              "    <tr>\n",
              "      <th>...</th>\n",
              "      <td>...</td>\n",
              "      <td>...</td>\n",
              "      <td>...</td>\n",
              "      <td>...</td>\n",
              "      <td>...</td>\n",
              "      <td>...</td>\n",
              "      <td>...</td>\n",
              "      <td>...</td>\n",
              "      <td>...</td>\n",
              "      <td>...</td>\n",
              "      <td>...</td>\n",
              "      <td>...</td>\n",
              "      <td>...</td>\n",
              "      <td>...</td>\n",
              "      <td>...</td>\n",
              "    </tr>\n",
              "    <tr>\n",
              "      <th>8922</th>\n",
              "      <td>90d30478255e23621e8929ed15c2f6e4</td>\n",
              "      <td>South</td>\n",
              "      <td>01-12-2020</td>\n",
              "      <td>04-12-2020</td>\n",
              "      <td>04-12-2020</td>\n",
              "      <td>Sinina Chanderi Embroidered Salwar Suit Dupatt...</td>\n",
              "      <td>Clothing</td>\n",
              "      <td>Women's Clothing</td>\n",
              "      <td>Ethnic Wear</td>\n",
              "      <td>Fabric</td>\n",
              "      <td>FABEGGHHDFMY8BZU</td>\n",
              "      <td>2980</td>\n",
              "      <td>1490</td>\n",
              "      <td>3.0</td>\n",
              "      <td>Sinina</td>\n",
              "    </tr>\n",
              "    <tr>\n",
              "      <th>8923</th>\n",
              "      <td>20a73e3f41490a73ceeba5f17658db8f</td>\n",
              "      <td>West</td>\n",
              "      <td>01-12-2020</td>\n",
              "      <td>04-12-2020</td>\n",
              "      <td>04-12-2020</td>\n",
              "      <td>Aarushi Fashion Chanderi Embroidered Salwar Su...</td>\n",
              "      <td>Clothing</td>\n",
              "      <td>Women's Clothing</td>\n",
              "      <td>Ethnic Wear</td>\n",
              "      <td>Fabric</td>\n",
              "      <td>FABEG8GFDUWRSNU3</td>\n",
              "      <td>2600</td>\n",
              "      <td>1300</td>\n",
              "      <td>1.0</td>\n",
              "      <td>Aarushi Fashion</td>\n",
              "    </tr>\n",
              "    <tr>\n",
              "      <th>8924</th>\n",
              "      <td>5c1554cd45f9d538c2c6947dbdd59c75</td>\n",
              "      <td>East</td>\n",
              "      <td>01-12-2020</td>\n",
              "      <td>04-12-2020</td>\n",
              "      <td>04-12-2020</td>\n",
              "      <td>Ambika Lahenga Embroidered Lehenga, Choli and ...</td>\n",
              "      <td>Clothing</td>\n",
              "      <td>Women's Clothing</td>\n",
              "      <td>Ethnic Wear</td>\n",
              "      <td>Lehenga Cholis</td>\n",
              "      <td>LEHEGGEHYN4G2RPW</td>\n",
              "      <td>39992</td>\n",
              "      <td>24995</td>\n",
              "      <td>1.0</td>\n",
              "      <td>Ambika Lahenga</td>\n",
              "    </tr>\n",
              "    <tr>\n",
              "      <th>8925</th>\n",
              "      <td>6b737a4deca1ed0e56c179e66036e994</td>\n",
              "      <td>West</td>\n",
              "      <td>01-12-2020</td>\n",
              "      <td>04-12-2020</td>\n",
              "      <td>04-12-2020</td>\n",
              "      <td>Sinina Chanderi Embroidered Salwar Suit Dupatt...</td>\n",
              "      <td>Clothing</td>\n",
              "      <td>Women's Clothing</td>\n",
              "      <td>Ethnic Wear</td>\n",
              "      <td>Fabric</td>\n",
              "      <td>FABEGGHHGSVCHGFV</td>\n",
              "      <td>2000</td>\n",
              "      <td>1000</td>\n",
              "      <td>3.0</td>\n",
              "      <td>Sinina</td>\n",
              "    </tr>\n",
              "    <tr>\n",
              "      <th>8926</th>\n",
              "      <td>a5235ac28d3d5487f54025f9d6b57433</td>\n",
              "      <td>North</td>\n",
              "      <td>01-12-2020</td>\n",
              "      <td>04-12-2020</td>\n",
              "      <td>04-12-2020</td>\n",
              "      <td>Aarushi Fashion Silk Striped Salwar Suit Dupat...</td>\n",
              "      <td>Clothing</td>\n",
              "      <td>Women's Clothing</td>\n",
              "      <td>Ethnic Wear</td>\n",
              "      <td>Fabric</td>\n",
              "      <td>FABEG8GYDAABECZH</td>\n",
              "      <td>2800</td>\n",
              "      <td>1350</td>\n",
              "      <td>4.0</td>\n",
              "      <td>Aarushi Fashion</td>\n",
              "    </tr>\n",
              "  </tbody>\n",
              "</table>\n",
              "<p>8927 rows × 15 columns</p>\n",
              "</div>\n",
              "      <button class=\"colab-df-convert\" onclick=\"convertToInteractive('df-912d37a3-621c-4de5-895a-d10787ebbad2')\"\n",
              "              title=\"Convert this dataframe to an interactive table.\"\n",
              "              style=\"display:none;\">\n",
              "        \n",
              "  <svg xmlns=\"http://www.w3.org/2000/svg\" height=\"24px\"viewBox=\"0 0 24 24\"\n",
              "       width=\"24px\">\n",
              "    <path d=\"M0 0h24v24H0V0z\" fill=\"none\"/>\n",
              "    <path d=\"M18.56 5.44l.94 2.06.94-2.06 2.06-.94-2.06-.94-.94-2.06-.94 2.06-2.06.94zm-11 1L8.5 8.5l.94-2.06 2.06-.94-2.06-.94L8.5 2.5l-.94 2.06-2.06.94zm10 10l.94 2.06.94-2.06 2.06-.94-2.06-.94-.94-2.06-.94 2.06-2.06.94z\"/><path d=\"M17.41 7.96l-1.37-1.37c-.4-.4-.92-.59-1.43-.59-.52 0-1.04.2-1.43.59L10.3 9.45l-7.72 7.72c-.78.78-.78 2.05 0 2.83L4 21.41c.39.39.9.59 1.41.59.51 0 1.02-.2 1.41-.59l7.78-7.78 2.81-2.81c.8-.78.8-2.07 0-2.86zM5.41 20L4 18.59l7.72-7.72 1.47 1.35L5.41 20z\"/>\n",
              "  </svg>\n",
              "      </button>\n",
              "      \n",
              "  <style>\n",
              "    .colab-df-container {\n",
              "      display:flex;\n",
              "      flex-wrap:wrap;\n",
              "      gap: 12px;\n",
              "    }\n",
              "\n",
              "    .colab-df-convert {\n",
              "      background-color: #E8F0FE;\n",
              "      border: none;\n",
              "      border-radius: 50%;\n",
              "      cursor: pointer;\n",
              "      display: none;\n",
              "      fill: #1967D2;\n",
              "      height: 32px;\n",
              "      padding: 0 0 0 0;\n",
              "      width: 32px;\n",
              "    }\n",
              "\n",
              "    .colab-df-convert:hover {\n",
              "      background-color: #E2EBFA;\n",
              "      box-shadow: 0px 1px 2px rgba(60, 64, 67, 0.3), 0px 1px 3px 1px rgba(60, 64, 67, 0.15);\n",
              "      fill: #174EA6;\n",
              "    }\n",
              "\n",
              "    [theme=dark] .colab-df-convert {\n",
              "      background-color: #3B4455;\n",
              "      fill: #D2E3FC;\n",
              "    }\n",
              "\n",
              "    [theme=dark] .colab-df-convert:hover {\n",
              "      background-color: #434B5C;\n",
              "      box-shadow: 0px 1px 3px 1px rgba(0, 0, 0, 0.15);\n",
              "      filter: drop-shadow(0px 1px 2px rgba(0, 0, 0, 0.3));\n",
              "      fill: #FFFFFF;\n",
              "    }\n",
              "  </style>\n",
              "\n",
              "      <script>\n",
              "        const buttonEl =\n",
              "          document.querySelector('#df-912d37a3-621c-4de5-895a-d10787ebbad2 button.colab-df-convert');\n",
              "        buttonEl.style.display =\n",
              "          google.colab.kernel.accessAllowed ? 'block' : 'none';\n",
              "\n",
              "        async function convertToInteractive(key) {\n",
              "          const element = document.querySelector('#df-912d37a3-621c-4de5-895a-d10787ebbad2');\n",
              "          const dataTable =\n",
              "            await google.colab.kernel.invokeFunction('convertToInteractive',\n",
              "                                                     [key], {});\n",
              "          if (!dataTable) return;\n",
              "\n",
              "          const docLinkHtml = 'Like what you see? Visit the ' +\n",
              "            '<a target=\"_blank\" href=https://colab.research.google.com/notebooks/data_table.ipynb>data table notebook</a>'\n",
              "            + ' to learn more about interactive tables.';\n",
              "          element.innerHTML = '';\n",
              "          dataTable['output_type'] = 'display_data';\n",
              "          await google.colab.output.renderOutput(dataTable, element);\n",
              "          const docLink = document.createElement('div');\n",
              "          docLink.innerHTML = docLinkHtml;\n",
              "          element.appendChild(docLink);\n",
              "        }\n",
              "      </script>\n",
              "    </div>\n",
              "  </div>\n",
              "  "
            ]
          },
          "metadata": {},
          "execution_count": 62
        }
      ],
      "source": [
        "ECom_Data.drop(columns=['product_specifications', 'description'], axis=1)"
      ]
    },
    {
      "cell_type": "markdown",
      "source": [
        "Here we are using df.drop() to remove the particular columns from the dataframe(here df is ECom_Data) and we have to mention axis=1 as we want to remove the column."
      ],
      "metadata": {
        "id": "Me48VR5AHaXA"
      },
      "id": "Me48VR5AHaXA"
    },
    {
      "cell_type": "markdown",
      "id": "e6159f6a",
      "metadata": {
        "id": "e6159f6a"
      },
      "source": [
        "### Ans 2 b)"
      ]
    },
    {
      "cell_type": "code",
      "execution_count": null,
      "id": "47a63265",
      "metadata": {
        "id": "47a63265"
      },
      "outputs": [],
      "source": [
        "ECom_Data.drop(columns=['product_specifications', 'description'], axis=1, inplace=True)"
      ]
    },
    {
      "cell_type": "markdown",
      "source": [
        "To remove the columns permanently we use inplace=True and also sepecify as \n",
        "axis=1 to remove the columns or else by default it will take axis=0 and remove the rows."
      ],
      "metadata": {
        "id": "p0BLa7GBHO0e"
      },
      "id": "p0BLa7GBHO0e"
    },
    {
      "cell_type": "markdown",
      "id": "cde421e0",
      "metadata": {
        "id": "cde421e0"
      },
      "source": [
        "<font color='blue'>\n",
        "    <font size = 5>\n",
        "        The next steps in this project involves summarization of data at various levels and visualization. Apparently, such simple steps are very useful to get an overall sense of the data.\n",
        "    </font>"
      ]
    },
    {
      "cell_type": "markdown",
      "id": "41c30ad7",
      "metadata": {
        "id": "41c30ad7"
      },
      "source": [
        "## Q 3. Here we summarize the data at Brand level.\n",
        "## a) How many unique Brand are there? (2 marks)\n",
        "## b) Note that each Brand contains multiple products. Show the average product_rating within each Brand (2 marks)\n"
      ]
    },
    {
      "cell_type": "markdown",
      "id": "beb3f83f",
      "metadata": {
        "id": "beb3f83f"
      },
      "source": [
        "### Ans 3 a)"
      ]
    },
    {
      "cell_type": "code",
      "execution_count": null,
      "id": "41dcb79f",
      "metadata": {
        "id": "41dcb79f",
        "colab": {
          "base_uri": "https://localhost:8080/"
        },
        "outputId": "ccc16b7f-54c3-41a0-d928-8118665e6ec5"
      },
      "outputs": [
        {
          "output_type": "execute_result",
          "data": {
            "text/plain": [
              "2580"
            ]
          },
          "metadata": {},
          "execution_count": 64
        }
      ],
      "source": [
        "ECom_Data.Brand.nunique()"
      ]
    },
    {
      "cell_type": "markdown",
      "source": [
        "Here we can use the df.nunique() function to get the number of unique brands(df here is ECom_Data)"
      ],
      "metadata": {
        "id": "tS1QoY1-HFIe"
      },
      "id": "tS1QoY1-HFIe"
    },
    {
      "cell_type": "markdown",
      "id": "5083d866",
      "metadata": {
        "id": "5083d866"
      },
      "source": [
        "### Ans 3 b)"
      ]
    },
    {
      "cell_type": "code",
      "execution_count": null,
      "id": "10018c2c",
      "metadata": {
        "id": "10018c2c",
        "colab": {
          "base_uri": "https://localhost:8080/"
        },
        "outputId": "181bd4a2-27da-4ba9-880d-392cddd4bd2b"
      },
      "outputs": [
        {
          "output_type": "execute_result",
          "data": {
            "text/plain": [
              "Brand\n",
              "1OAK            1.500000\n",
              "3A AUTOCARE     3.268293\n",
              "3D Mat          3.000000\n",
              "3kFactory       2.000000\n",
              "4D              3.600000\n",
              "                  ...   \n",
              "youniqueshop    2.000000\n",
              "zDelhi.com      5.000000\n",
              "zaidis          4.000000\n",
              "zasmina         4.500000\n",
              " Tarkan         5.000000\n",
              "Name: product_rating, Length: 2580, dtype: float64"
            ]
          },
          "metadata": {},
          "execution_count": 65
        }
      ],
      "source": [
        "ECom_Data.groupby(['Brand'])['product_rating'].mean()\n"
      ]
    },
    {
      "cell_type": "markdown",
      "source": [
        "Here we will use groupby() as there are multiple brands and then by using the mean funtion we can find out the average product_rating."
      ],
      "metadata": {
        "id": "XnSRD2XvGoPi"
      },
      "id": "XnSRD2XvGoPi"
    },
    {
      "cell_type": "markdown",
      "id": "bbf162af",
      "metadata": {
        "id": "bbf162af"
      },
      "source": [
        "## Q 4. Next we study the main categories of the products.\n",
        "\n",
        "## a) Create an appropriate plot to show the count of items ordered for each product_main_category. (6 marks).\n",
        "\n",
        "### Hint: Create a bar chart titled \"Product Category type\" where product_main_category are on x-axis and counts are on y-axis.\n",
        "\n",
        "### Note: Both axis labels, i.e. the names of the product_main_category and counts must be clearly legible. \n",
        "\n",
        "## b) From the plot identify for which two product_main_category(s)  maximum and minimum orders were placed. (2 marks)\n",
        "\n",
        "## c) Write code to print out the top 5 product_main_category(s)  in descending order? (3 marks"
      ]
    },
    {
      "cell_type": "markdown",
      "id": "36c72928",
      "metadata": {
        "id": "36c72928"
      },
      "source": [
        "### Ans 4 a)"
      ]
    },
    {
      "cell_type": "code",
      "execution_count": null,
      "id": "f60dd2c1",
      "metadata": {
        "id": "f60dd2c1",
        "colab": {
          "base_uri": "https://localhost:8080/",
          "height": 598
        },
        "outputId": "25283f9d-f3fe-4ee6-c474-328251701896"
      },
      "outputs": [
        {
          "output_type": "display_data",
          "data": {
            "text/plain": [
              "<Figure size 1080x504 with 1 Axes>"
            ],
            "image/png": "[encoded data removed]"
          },
          "metadata": {
            "needs_background": "light"
          }
        }
      ],
      "source": [
        "plt.figure(figsize=(15,7))\n",
        "plt.title('Product Category type')\n",
        "plt.xticks(rotation=90)\n",
        "sns.countplot(data=ECom_Data, x='product_main_category');"
      ]
    },
    {
      "cell_type": "markdown",
      "source": [
        "Here firstly we are giving the figure size then giving the titile as said.Then we are rotating it by 90 degress to get a clear picture and then plotting a bar graph."
      ],
      "metadata": {
        "id": "j46rHm2pLnKG"
      },
      "id": "j46rHm2pLnKG"
    },
    {
      "cell_type": "markdown",
      "id": "13a5b355",
      "metadata": {
        "id": "13a5b355"
      },
      "source": [
        "### Ans 4 b)"
      ]
    },
    {
      "cell_type": "markdown",
      "source": [
        "From the above plot we can see that the maximum in product_main_category are Clothing and Mobiles and Accessories.\n",
        "The minimum in product_main_category are Food & Nutrition and Wearable Smart Devices."
      ],
      "metadata": {
        "id": "gYHOYCMSOYdo"
      },
      "id": "gYHOYCMSOYdo"
    },
    {
      "cell_type": "markdown",
      "id": "4ea60c92",
      "metadata": {
        "id": "4ea60c92"
      },
      "source": [
        "### Ans 4 c)"
      ]
    },
    {
      "cell_type": "code",
      "execution_count": null,
      "id": "7f704116",
      "metadata": {
        "id": "7f704116",
        "colab": {
          "base_uri": "https://localhost:8080/",
          "height": 548
        },
        "outputId": "e643e86b-e83e-4d85-cb98-42ecad0268f2"
      },
      "outputs": [
        {
          "output_type": "execute_result",
          "data": {
            "text/plain": [
              "                      Customer_uniq_id Region  Order_Date  \\\n",
              "3546  e9286a103f2d3dcc752c188a666825ea  South  09-06-2021   \n",
              "3018  379bc81948d3f1f4b2701a0f7434e5b9  East   26-05-2021   \n",
              "2944  2280fc39ac93b696dc02a2ba6b128711  East   24-04-2021   \n",
              "2939  5bdcb99b86cf6613a69e0a6046e44ff6  North  24-04-2021   \n",
              "2992  08613e8b27838b997069b1fedb6e88d2  East   11-04-2021   \n",
              "\n",
              "     Expected_Delivery_Date Delivered_Date  \\\n",
              "3546             12-06-2021     12-06-2021   \n",
              "3018             29-05-2021     29-05-2021   \n",
              "2944             27-04-2021     27-04-2021   \n",
              "2939             27-04-2021     27-04-2021   \n",
              "2992             14-04-2021     14-04-2021   \n",
              "\n",
              "                                           product_name  \\\n",
              "3546                 Besto LED-B3PWGYR Smart Band Strap   \n",
              "3018  Italian Fashion wt276 Analog Watch  - For Girl...   \n",
              "2944     Wisdom LW0065 Analog Watch  - For Women, Girls   \n",
              "2939           ESIDON AKADA04 Analog Watch  - For Women   \n",
              "2992             V9 METAL STRAP Analog Watch  - For Men   \n",
              "\n",
              "        product_main_category     product_subcategory  \\\n",
              "3546  Wearable Smart Devices    Wearable Accessories    \n",
              "3018                 Watches           Wrist Watches    \n",
              "2944                 Watches           Wrist Watches    \n",
              "2939                 Watches           Wrist Watches    \n",
              "2992                 Watches           Wrist Watches    \n",
              "\n",
              "              product_category_filter  \\\n",
              "3546      Besto Wearable Accessories    \n",
              "3018   Italian Fashion Wrist Watches    \n",
              "2944            Wisdom Wrist Watches    \n",
              "2939            ESIDON Wrist Watches    \n",
              "2992                V9 Wrist Watches    \n",
              "\n",
              "                             product_category_subfilter product_unique ID  \\\n",
              "3546   Besto LED-B3PWGYR Smart Band Strap (Mullti Co...  SBWEGKHH7SY6ENHV   \n",
              "3018   Italian Fashion wt276 Analog Watch  - For Gir...  WATEHYW2NN8YBDYZ   \n",
              "2944     Wisdom LW0065 Analog Watch  - For Women, Girls  WATEHYJBSKK8HHKC   \n",
              "2939           ESIDON AKADA04 Analog Watch  - For Women  WATEHVHJSUBGKZVG   \n",
              "2992             V9 METAL STRAP Analog Watch  - For Men  WATEHZZV8HF77B94   \n",
              "\n",
              "      retail_price  discounted_price  product_rating            Brand  \n",
              "3546          1299               539             3.0            Besto  \n",
              "3018           999               549             4.0  Italian Fashion  \n",
              "2944           898               279             5.0           Wisdom  \n",
              "2939          1999               449             2.0           ESIDON  \n",
              "2992           649               499             3.0               V9  "
            ],
            "text/html": [
              "\n",
              "  <div id=\"df-608b3105-9a70-4787-b80b-a24167561aa6\">\n",
              "    <div class=\"colab-df-container\">\n",
              "      <div>\n",
              "<style scoped>\n",
              "    .dataframe tbody tr th:only-of-type {\n",
              "        vertical-align: middle;\n",
              "    }\n",
              "\n",
              "    .dataframe tbody tr th {\n",
              "        vertical-align: top;\n",
              "    }\n",
              "\n",
              "    .dataframe thead th {\n",
              "        text-align: right;\n",
              "    }\n",
              "</style>\n",
              "<table border=\"1\" class=\"dataframe\">\n",
              "  <thead>\n",
              "    <tr style=\"text-align: right;\">\n",
              "      <th></th>\n",
              "      <th>Customer_uniq_id</th>\n",
              "      <th>Region</th>\n",
              "      <th>Order_Date</th>\n",
              "      <th>Expected_Delivery_Date</th>\n",
              "      <th>Delivered_Date</th>\n",
              "      <th>product_name</th>\n",
              "      <th>product_main_category</th>\n",
              "      <th>product_subcategory</th>\n",
              "      <th>product_category_filter</th>\n",
              "      <th>product_category_subfilter</th>\n",
              "      <th>product_unique ID</th>\n",
              "      <th>retail_price</th>\n",
              "      <th>discounted_price</th>\n",
              "      <th>product_rating</th>\n",
              "      <th>Brand</th>\n",
              "    </tr>\n",
              "  </thead>\n",
              "  <tbody>\n",
              "    <tr>\n",
              "      <th>3546</th>\n",
              "      <td>e9286a103f2d3dcc752c188a666825ea</td>\n",
              "      <td>South</td>\n",
              "      <td>09-06-2021</td>\n",
              "      <td>12-06-2021</td>\n",
              "      <td>12-06-2021</td>\n",
              "      <td>Besto LED-B3PWGYR Smart Band Strap</td>\n",
              "      <td>Wearable Smart Devices</td>\n",
              "      <td>Wearable Accessories</td>\n",
              "      <td>Besto Wearable Accessories</td>\n",
              "      <td>Besto LED-B3PWGYR Smart Band Strap (Mullti Co...</td>\n",
              "      <td>SBWEGKHH7SY6ENHV</td>\n",
              "      <td>1299</td>\n",
              "      <td>539</td>\n",
              "      <td>3.0</td>\n",
              "      <td>Besto</td>\n",
              "    </tr>\n",
              "    <tr>\n",
              "      <th>3018</th>\n",
              "      <td>379bc81948d3f1f4b2701a0f7434e5b9</td>\n",
              "      <td>East</td>\n",
              "      <td>26-05-2021</td>\n",
              "      <td>29-05-2021</td>\n",
              "      <td>29-05-2021</td>\n",
              "      <td>Italian Fashion wt276 Analog Watch  - For Girl...</td>\n",
              "      <td>Watches</td>\n",
              "      <td>Wrist Watches</td>\n",
              "      <td>Italian Fashion Wrist Watches</td>\n",
              "      <td>Italian Fashion wt276 Analog Watch  - For Gir...</td>\n",
              "      <td>WATEHYW2NN8YBDYZ</td>\n",
              "      <td>999</td>\n",
              "      <td>549</td>\n",
              "      <td>4.0</td>\n",
              "      <td>Italian Fashion</td>\n",
              "    </tr>\n",
              "    <tr>\n",
              "      <th>2944</th>\n",
              "      <td>2280fc39ac93b696dc02a2ba6b128711</td>\n",
              "      <td>East</td>\n",
              "      <td>24-04-2021</td>\n",
              "      <td>27-04-2021</td>\n",
              "      <td>27-04-2021</td>\n",
              "      <td>Wisdom LW0065 Analog Watch  - For Women, Girls</td>\n",
              "      <td>Watches</td>\n",
              "      <td>Wrist Watches</td>\n",
              "      <td>Wisdom Wrist Watches</td>\n",
              "      <td>Wisdom LW0065 Analog Watch  - For Women, Girls</td>\n",
              "      <td>WATEHYJBSKK8HHKC</td>\n",
              "      <td>898</td>\n",
              "      <td>279</td>\n",
              "      <td>5.0</td>\n",
              "      <td>Wisdom</td>\n",
              "    </tr>\n",
              "    <tr>\n",
              "      <th>2939</th>\n",
              "      <td>5bdcb99b86cf6613a69e0a6046e44ff6</td>\n",
              "      <td>North</td>\n",
              "      <td>24-04-2021</td>\n",
              "      <td>27-04-2021</td>\n",
              "      <td>27-04-2021</td>\n",
              "      <td>ESIDON AKADA04 Analog Watch  - For Women</td>\n",
              "      <td>Watches</td>\n",
              "      <td>Wrist Watches</td>\n",
              "      <td>ESIDON Wrist Watches</td>\n",
              "      <td>ESIDON AKADA04 Analog Watch  - For Women</td>\n",
              "      <td>WATEHVHJSUBGKZVG</td>\n",
              "      <td>1999</td>\n",
              "      <td>449</td>\n",
              "      <td>2.0</td>\n",
              "      <td>ESIDON</td>\n",
              "    </tr>\n",
              "    <tr>\n",
              "      <th>2992</th>\n",
              "      <td>08613e8b27838b997069b1fedb6e88d2</td>\n",
              "      <td>East</td>\n",
              "      <td>11-04-2021</td>\n",
              "      <td>14-04-2021</td>\n",
              "      <td>14-04-2021</td>\n",
              "      <td>V9 METAL STRAP Analog Watch  - For Men</td>\n",
              "      <td>Watches</td>\n",
              "      <td>Wrist Watches</td>\n",
              "      <td>V9 Wrist Watches</td>\n",
              "      <td>V9 METAL STRAP Analog Watch  - For Men</td>\n",
              "      <td>WATEHZZV8HF77B94</td>\n",
              "      <td>649</td>\n",
              "      <td>499</td>\n",
              "      <td>3.0</td>\n",
              "      <td>V9</td>\n",
              "    </tr>\n",
              "  </tbody>\n",
              "</table>\n",
              "</div>\n",
              "      <button class=\"colab-df-convert\" onclick=\"convertToInteractive('df-608b3105-9a70-4787-b80b-a24167561aa6')\"\n",
              "              title=\"Convert this dataframe to an interactive table.\"\n",
              "              style=\"display:none;\">\n",
              "        \n",
              "  <svg xmlns=\"http://www.w3.org/2000/svg\" height=\"24px\"viewBox=\"0 0 24 24\"\n",
              "       width=\"24px\">\n",
              "    <path d=\"M0 0h24v24H0V0z\" fill=\"none\"/>\n",
              "    <path d=\"M18.56 5.44l.94 2.06.94-2.06 2.06-.94-2.06-.94-.94-2.06-.94 2.06-2.06.94zm-11 1L8.5 8.5l.94-2.06 2.06-.94-2.06-.94L8.5 2.5l-.94 2.06-2.06.94zm10 10l.94 2.06.94-2.06 2.06-.94-2.06-.94-.94-2.06-.94 2.06-2.06.94z\"/><path d=\"M17.41 7.96l-1.37-1.37c-.4-.4-.92-.59-1.43-.59-.52 0-1.04.2-1.43.59L10.3 9.45l-7.72 7.72c-.78.78-.78 2.05 0 2.83L4 21.41c.39.39.9.59 1.41.59.51 0 1.02-.2 1.41-.59l7.78-7.78 2.81-2.81c.8-.78.8-2.07 0-2.86zM5.41 20L4 18.59l7.72-7.72 1.47 1.35L5.41 20z\"/>\n",
              "  </svg>\n",
              "      </button>\n",
              "      \n",
              "  <style>\n",
              "    .colab-df-container {\n",
              "      display:flex;\n",
              "      flex-wrap:wrap;\n",
              "      gap: 12px;\n",
              "    }\n",
              "\n",
              "    .colab-df-convert {\n",
              "      background-color: #E8F0FE;\n",
              "      border: none;\n",
              "      border-radius: 50%;\n",
              "      cursor: pointer;\n",
              "      display: none;\n",
              "      fill: #1967D2;\n",
              "      height: 32px;\n",
              "      padding: 0 0 0 0;\n",
              "      width: 32px;\n",
              "    }\n",
              "\n",
              "    .colab-df-convert:hover {\n",
              "      background-color: #E2EBFA;\n",
              "      box-shadow: 0px 1px 2px rgba(60, 64, 67, 0.3), 0px 1px 3px 1px rgba(60, 64, 67, 0.15);\n",
              "      fill: #174EA6;\n",
              "    }\n",
              "\n",
              "    [theme=dark] .colab-df-convert {\n",
              "      background-color: #3B4455;\n",
              "      fill: #D2E3FC;\n",
              "    }\n",
              "\n",
              "    [theme=dark] .colab-df-convert:hover {\n",
              "      background-color: #434B5C;\n",
              "      box-shadow: 0px 1px 3px 1px rgba(0, 0, 0, 0.15);\n",
              "      filter: drop-shadow(0px 1px 2px rgba(0, 0, 0, 0.3));\n",
              "      fill: #FFFFFF;\n",
              "    }\n",
              "  </style>\n",
              "\n",
              "      <script>\n",
              "        const buttonEl =\n",
              "          document.querySelector('#df-608b3105-9a70-4787-b80b-a24167561aa6 button.colab-df-convert');\n",
              "        buttonEl.style.display =\n",
              "          google.colab.kernel.accessAllowed ? 'block' : 'none';\n",
              "\n",
              "        async function convertToInteractive(key) {\n",
              "          const element = document.querySelector('#df-608b3105-9a70-4787-b80b-a24167561aa6');\n",
              "          const dataTable =\n",
              "            await google.colab.kernel.invokeFunction('convertToInteractive',\n",
              "                                                     [key], {});\n",
              "          if (!dataTable) return;\n",
              "\n",
              "          const docLinkHtml = 'Like what you see? Visit the ' +\n",
              "            '<a target=\"_blank\" href=https://colab.research.google.com/notebooks/data_table.ipynb>data table notebook</a>'\n",
              "            + ' to learn more about interactive tables.';\n",
              "          element.innerHTML = '';\n",
              "          dataTable['output_type'] = 'display_data';\n",
              "          await google.colab.output.renderOutput(dataTable, element);\n",
              "          const docLink = document.createElement('div');\n",
              "          docLink.innerHTML = docLinkHtml;\n",
              "          element.appendChild(docLink);\n",
              "        }\n",
              "      </script>\n",
              "    </div>\n",
              "  </div>\n",
              "  "
            ]
          },
          "metadata": {},
          "execution_count": 67
        }
      ],
      "source": [
        "ECom_Data.sort_values(by=['product_main_category'], ascending=False).head(5)"
      ]
    },
    {
      "cell_type": "markdown",
      "source": [
        "Here we are using df.sort_values to first sort the values and then assigning as ascending as false to get the output in descending order.(here df is ECom_Data)"
      ],
      "metadata": {
        "id": "r-pck2wnTm6w"
      },
      "id": "r-pck2wnTm6w"
    },
    {
      "cell_type": "markdown",
      "id": "a9f81605",
      "metadata": {
        "id": "a9f81605"
      },
      "source": [
        "<font color='blue'>\n",
        "    <font size = 5>\n",
        "    In E-commerce, both the retailers (here brands) and the company have to make profit to sustain in the business. \n",
        "    The E-Commerce company has the following rule for computing their own revenue: </font> \n",
        "    \n",
        "####     The company charges  \n",
        "####  (i) 25% on the orders having final price (discounted price) greater than 600\n",
        "\n",
        "#### (ii) 15% on the orders having final price (discounted price) greater than 350 but less than or equal to 600\n",
        "\n",
        "#### (iii) 10% on the orders having final price (discounted price) greater than 100 but less than or equal to 350\n",
        "\n",
        "#### (iv) Otherwise, 5% on the final price (discounted price)    </font> "
      ]
    },
    {
      "cell_type": "markdown",
      "id": "0f255fea",
      "metadata": {
        "id": "0f255fea"
      },
      "source": [
        "## Q 5. Find the net revenue generated by the E-Commerce company over all orders placed. (6 marks)"
      ]
    },
    {
      "cell_type": "markdown",
      "id": "1f6b8028",
      "metadata": {
        "id": "1f6b8028"
      },
      "source": [
        "### Ans 5"
      ]
    },
    {
      "cell_type": "code",
      "execution_count": null,
      "id": "c62d888f",
      "metadata": {
        "id": "c62d888f",
        "colab": {
          "base_uri": "https://localhost:8080/"
        },
        "outputId": "7a36d3fa-5c76-408a-a5f6-dd73e7ffa8ae"
      },
      "outputs": [
        {
          "output_type": "stream",
          "name": "stdout",
          "text": [
            "The revenue generated by the company is 2242221.75\n"
          ]
        }
      ],
      "source": [
        "def company_profit_margin(value):\n",
        "  if value>600:\n",
        "    return(25/100)*value\n",
        "  elif value>350 and value<=600:\n",
        "    return(15/100)*value\n",
        "  elif value>100 and value<=350:\n",
        "    return(10/100)*value\n",
        "  else:\n",
        "    return(5/100)*value\n",
        "\n",
        "net_revenue=0\n",
        "for value in ECom_Data.discounted_price:\n",
        "  net_revenue=net_revenue+company_profit_margin(value)\n",
        "\n",
        "print('The revenue generated by the company is',round(net_revenue,2))"
      ]
    },
    {
      "cell_type": "markdown",
      "source": [
        "Here we are using the if else condition for solving this question and rounding it off."
      ],
      "metadata": {
        "id": "l5t5N1P4eatf"
      },
      "id": "l5t5N1P4eatf"
    },
    {
      "cell_type": "markdown",
      "id": "9161ca8c",
      "metadata": {
        "id": "9161ca8c"
      },
      "source": [
        "<font color='blue'>\n",
        "    <font size = 5>\n",
        "    Now you need to find the revenue for each retailer (Brand)\n",
        "    </font>"
      ]
    },
    {
      "cell_type": "markdown",
      "id": "73dd23c3",
      "metadata": {
        "id": "73dd23c3"
      },
      "source": [
        "## Q6.Calculate the Net BrandRevenue for each Brand and list the top 14 Brand having maximum revenue in descending order (6 marks)\n",
        "#### Hint: Net BrandRevenue is BrandRevenue which is generated after all the deductions. Also, BrandRevenue is different from the E-Commerce company's net revenue."
      ]
    },
    {
      "cell_type": "markdown",
      "id": "3514fa79",
      "metadata": {
        "id": "3514fa79"
      },
      "source": [
        "### Ans 6"
      ]
    },
    {
      "cell_type": "code",
      "execution_count": null,
      "id": "437c69b5",
      "metadata": {
        "id": "437c69b5",
        "colab": {
          "base_uri": "https://localhost:8080/",
          "height": 424
        },
        "outputId": "e33f47f1-ad15-4db0-c0ed-a01f312ef3a5"
      },
      "outputs": [
        {
          "output_type": "execute_result",
          "data": {
            "text/plain": [
              "        Brand_name  net_revenue_generated\n",
              "628    Allure Auto              498464.25\n",
              "1198          GAGA              237390.00\n",
              "39            Slim              212062.60\n",
              "70    DailyObjects              181980.00\n",
              "348       Diviniti              143115.00\n",
              "...            ...                    ...\n",
              "2307     Springwel               88978.50\n",
              "1098        Audeze               87219.00\n",
              "622     Lal Haveli               74239.95\n",
              "1392      Speedwav               68560.20\n",
              "1     FabHomeDecor               67938.00\n",
              "\n",
              "[14 rows x 2 columns]"
            ],
            "text/html": [
              "\n",
              "  <div id=\"df-e29297e0-3e5c-4762-8a69-9be9f8b021b6\">\n",
              "    <div class=\"colab-df-container\">\n",
              "      <div>\n",
              "<style scoped>\n",
              "    .dataframe tbody tr th:only-of-type {\n",
              "        vertical-align: middle;\n",
              "    }\n",
              "\n",
              "    .dataframe tbody tr th {\n",
              "        vertical-align: top;\n",
              "    }\n",
              "\n",
              "    .dataframe thead th {\n",
              "        text-align: right;\n",
              "    }\n",
              "</style>\n",
              "<table border=\"1\" class=\"dataframe\">\n",
              "  <thead>\n",
              "    <tr style=\"text-align: right;\">\n",
              "      <th></th>\n",
              "      <th>Brand_name</th>\n",
              "      <th>net_revenue_generated</th>\n",
              "    </tr>\n",
              "  </thead>\n",
              "  <tbody>\n",
              "    <tr>\n",
              "      <th>628</th>\n",
              "      <td>Allure Auto</td>\n",
              "      <td>498464.25</td>\n",
              "    </tr>\n",
              "    <tr>\n",
              "      <th>1198</th>\n",
              "      <td>GAGA</td>\n",
              "      <td>237390.00</td>\n",
              "    </tr>\n",
              "    <tr>\n",
              "      <th>39</th>\n",
              "      <td>Slim</td>\n",
              "      <td>212062.60</td>\n",
              "    </tr>\n",
              "    <tr>\n",
              "      <th>70</th>\n",
              "      <td>DailyObjects</td>\n",
              "      <td>181980.00</td>\n",
              "    </tr>\n",
              "    <tr>\n",
              "      <th>348</th>\n",
              "      <td>Diviniti</td>\n",
              "      <td>143115.00</td>\n",
              "    </tr>\n",
              "    <tr>\n",
              "      <th>...</th>\n",
              "      <td>...</td>\n",
              "      <td>...</td>\n",
              "    </tr>\n",
              "    <tr>\n",
              "      <th>2307</th>\n",
              "      <td>Springwel</td>\n",
              "      <td>88978.50</td>\n",
              "    </tr>\n",
              "    <tr>\n",
              "      <th>1098</th>\n",
              "      <td>Audeze</td>\n",
              "      <td>87219.00</td>\n",
              "    </tr>\n",
              "    <tr>\n",
              "      <th>622</th>\n",
              "      <td>Lal Haveli</td>\n",
              "      <td>74239.95</td>\n",
              "    </tr>\n",
              "    <tr>\n",
              "      <th>1392</th>\n",
              "      <td>Speedwav</td>\n",
              "      <td>68560.20</td>\n",
              "    </tr>\n",
              "    <tr>\n",
              "      <th>1</th>\n",
              "      <td>FabHomeDecor</td>\n",
              "      <td>67938.00</td>\n",
              "    </tr>\n",
              "  </tbody>\n",
              "</table>\n",
              "<p>14 rows × 2 columns</p>\n",
              "</div>\n",
              "      <button class=\"colab-df-convert\" onclick=\"convertToInteractive('df-e29297e0-3e5c-4762-8a69-9be9f8b021b6')\"\n",
              "              title=\"Convert this dataframe to an interactive table.\"\n",
              "              style=\"display:none;\">\n",
              "        \n",
              "  <svg xmlns=\"http://www.w3.org/2000/svg\" height=\"24px\"viewBox=\"0 0 24 24\"\n",
              "       width=\"24px\">\n",
              "    <path d=\"M0 0h24v24H0V0z\" fill=\"none\"/>\n",
              "    <path d=\"M18.56 5.44l.94 2.06.94-2.06 2.06-.94-2.06-.94-.94-2.06-.94 2.06-2.06.94zm-11 1L8.5 8.5l.94-2.06 2.06-.94-2.06-.94L8.5 2.5l-.94 2.06-2.06.94zm10 10l.94 2.06.94-2.06 2.06-.94-2.06-.94-.94-2.06-.94 2.06-2.06.94z\"/><path d=\"M17.41 7.96l-1.37-1.37c-.4-.4-.92-.59-1.43-.59-.52 0-1.04.2-1.43.59L10.3 9.45l-7.72 7.72c-.78.78-.78 2.05 0 2.83L4 21.41c.39.39.9.59 1.41.59.51 0 1.02-.2 1.41-.59l7.78-7.78 2.81-2.81c.8-.78.8-2.07 0-2.86zM5.41 20L4 18.59l7.72-7.72 1.47 1.35L5.41 20z\"/>\n",
              "  </svg>\n",
              "      </button>\n",
              "      \n",
              "  <style>\n",
              "    .colab-df-container {\n",
              "      display:flex;\n",
              "      flex-wrap:wrap;\n",
              "      gap: 12px;\n",
              "    }\n",
              "\n",
              "    .colab-df-convert {\n",
              "      background-color: #E8F0FE;\n",
              "      border: none;\n",
              "      border-radius: 50%;\n",
              "      cursor: pointer;\n",
              "      display: none;\n",
              "      fill: #1967D2;\n",
              "      height: 32px;\n",
              "      padding: 0 0 0 0;\n",
              "      width: 32px;\n",
              "    }\n",
              "\n",
              "    .colab-df-convert:hover {\n",
              "      background-color: #E2EBFA;\n",
              "      box-shadow: 0px 1px 2px rgba(60, 64, 67, 0.3), 0px 1px 3px 1px rgba(60, 64, 67, 0.15);\n",
              "      fill: #174EA6;\n",
              "    }\n",
              "\n",
              "    [theme=dark] .colab-df-convert {\n",
              "      background-color: #3B4455;\n",
              "      fill: #D2E3FC;\n",
              "    }\n",
              "\n",
              "    [theme=dark] .colab-df-convert:hover {\n",
              "      background-color: #434B5C;\n",
              "      box-shadow: 0px 1px 3px 1px rgba(0, 0, 0, 0.15);\n",
              "      filter: drop-shadow(0px 1px 2px rgba(0, 0, 0, 0.3));\n",
              "      fill: #FFFFFF;\n",
              "    }\n",
              "  </style>\n",
              "\n",
              "      <script>\n",
              "        const buttonEl =\n",
              "          document.querySelector('#df-e29297e0-3e5c-4762-8a69-9be9f8b021b6 button.colab-df-convert');\n",
              "        buttonEl.style.display =\n",
              "          google.colab.kernel.accessAllowed ? 'block' : 'none';\n",
              "\n",
              "        async function convertToInteractive(key) {\n",
              "          const element = document.querySelector('#df-e29297e0-3e5c-4762-8a69-9be9f8b021b6');\n",
              "          const dataTable =\n",
              "            await google.colab.kernel.invokeFunction('convertToInteractive',\n",
              "                                                     [key], {});\n",
              "          if (!dataTable) return;\n",
              "\n",
              "          const docLinkHtml = 'Like what you see? Visit the ' +\n",
              "            '<a target=\"_blank\" href=https://colab.research.google.com/notebooks/data_table.ipynb>data table notebook</a>'\n",
              "            + ' to learn more about interactive tables.';\n",
              "          element.innerHTML = '';\n",
              "          dataTable['output_type'] = 'display_data';\n",
              "          await google.colab.output.renderOutput(dataTable, element);\n",
              "          const docLink = document.createElement('div');\n",
              "          docLink.innerHTML = docLinkHtml;\n",
              "          element.appendChild(docLink);\n",
              "        }\n",
              "      </script>\n",
              "    </div>\n",
              "  </div>\n",
              "  "
            ]
          },
          "metadata": {},
          "execution_count": 69
        }
      ],
      "source": [
        "brand_names=[]\n",
        "net_revenue_generated=[]\n",
        "for brand_name in ECom_Data.Brand.unique():\n",
        "  brand_subset=ECom_Data[ECom_Data['Brand']==brand_name]\n",
        "  net_brand_revenue=0\n",
        "  for value in brand_subset.discounted_price:\n",
        "    retailer_margin = value - company_profit_margin(value)\n",
        "    net_brand_revenue = net_brand_revenue + retailer_margin\n",
        "  brand_names.append(brand_name)\n",
        "  net_revenue_generated.append(net_brand_revenue)\n",
        "result=pd.DataFrame({'Brand_name':brand_names, 'net_revenue_generated':net_revenue_generated})\n",
        "result.sort_values('net_revenue_generated', ascending=False).head(14)\n"
      ]
    },
    {
      "cell_type": "markdown",
      "source": [
        "Here we are creating a subset brand_name ans also using the unique function so that the brand names dont get repeated."
      ],
      "metadata": {
        "id": "_v8KgkaoVNqn"
      },
      "id": "_v8KgkaoVNqn"
    },
    {
      "cell_type": "markdown",
      "id": "2a2bbd83",
      "metadata": {
        "id": "2a2bbd83"
      },
      "source": [
        "<font color='blue'>\n",
        "    <font size = 5>\n",
        "Let us now investigate multiple features for each product to determine any pattern.\n",
        "</font>"
      ]
    },
    {
      "cell_type": "markdown",
      "id": "1aa1834b",
      "metadata": {
        "id": "1aa1834b"
      },
      "source": [
        "## Q 7. Compare prices for each product.\n",
        "\n",
        "## a)\tDraw boxplots of retail_price & discounted_price. (3 marks)\n",
        "\n",
        "## b)\t Are there any outliers? (Yes/No) (1mark)\n",
        "\n",
        "## c)\tCreate a scatterplot of retail_price (x-axis) and discounted_price (y-axis) (3 marks)\n"
      ]
    },
    {
      "cell_type": "markdown",
      "source": [
        ""
      ],
      "metadata": {
        "id": "9dJwQ42Seuf8"
      },
      "id": "9dJwQ42Seuf8"
    },
    {
      "cell_type": "markdown",
      "id": "d5aae861",
      "metadata": {
        "id": "d5aae861"
      },
      "source": [
        "### Ans 7 a)"
      ]
    },
    {
      "cell_type": "code",
      "execution_count": null,
      "id": "510fd4d0",
      "metadata": {
        "id": "510fd4d0",
        "colab": {
          "base_uri": "https://localhost:8080/",
          "height": 335
        },
        "outputId": "c6450148-c203-4fce-a8bc-05d018b9286b"
      },
      "outputs": [
        {
          "output_type": "display_data",
          "data": {
            "text/plain": [
              "<Figure size 1080x360 with 1 Axes>"
            ],
            "image/png": "[encoded data removed]"
          },
          "metadata": {
            "needs_background": "light"
          }
        }
      ],
      "source": [
        "plt.figure(figsize=(15,5))\n",
        "plt.xlim(0,12000,300)\n",
        "sns.boxplot(data=ECom_Data, x='retail_price');"
      ]
    },
    {
      "cell_type": "markdown",
      "source": [
        "Here we are firstly defining the figure size and then using the seaborn(sns).boxplot()"
      ],
      "metadata": {
        "id": "3L-QPdJ1Kke3"
      },
      "id": "3L-QPdJ1Kke3"
    },
    {
      "cell_type": "code",
      "source": [
        "plt.figure(figsize=(15,5))\n",
        "plt.xlim(0,12000,300)\n",
        "sns.boxplot(data=ECom_Data, x='discounted_price');"
      ],
      "metadata": {
        "colab": {
          "base_uri": "https://localhost:8080/",
          "height": 335
        },
        "id": "XSkh5hYuJUJk",
        "outputId": "e9dabf01-9f17-4d56-c715-04994be94f64"
      },
      "id": "XSkh5hYuJUJk",
      "execution_count": null,
      "outputs": [
        {
          "output_type": "display_data",
          "data": {
            "text/plain": [
              "<Figure size 1080x360 with 1 Axes>"
            ],
            "image/png": "[encoded data removed]"
          },
          "metadata": {
            "needs_background": "light"
          }
        }
      ]
    },
    {
      "cell_type": "markdown",
      "source": [
        "Here we are firstly defining the figure size and then using the seaborn(sns).boxplot(). there will be two diffrent boxplots for each."
      ],
      "metadata": {
        "id": "MVrYuMe8K-Gr"
      },
      "id": "MVrYuMe8K-Gr"
    },
    {
      "cell_type": "markdown",
      "id": "78b92e7c",
      "metadata": {
        "id": "78b92e7c"
      },
      "source": [
        "### Ans 7 b)"
      ]
    },
    {
      "cell_type": "markdown",
      "source": [
        "Yes there are outliers in both the boxplots above."
      ],
      "metadata": {
        "id": "714g0vmxIxxu"
      },
      "id": "714g0vmxIxxu"
    },
    {
      "cell_type": "markdown",
      "id": "0389c9b8",
      "metadata": {
        "id": "0389c9b8"
      },
      "source": [
        "### Ans 7 c)"
      ]
    },
    {
      "cell_type": "code",
      "execution_count": null,
      "id": "d8c44be9",
      "metadata": {
        "id": "d8c44be9",
        "colab": {
          "base_uri": "https://localhost:8080/",
          "height": 281
        },
        "outputId": "ce1be257-a8ea-44a2-f734-a8369636bd30"
      },
      "outputs": [
        {
          "output_type": "display_data",
          "data": {
            "text/plain": [
              "<Figure size 432x288 with 1 Axes>"
            ],
            "image/png": "[encoded data removed]"
          },
          "metadata": {
            "needs_background": "light"
          }
        }
      ],
      "source": [
        "sns.scatterplot(data=ECom_Data, x='retail_price', y='discounted_price');"
      ]
    },
    {
      "cell_type": "markdown",
      "source": [
        "Here we are using sns.scatterplot() and then defining data and the x and y variables."
      ],
      "metadata": {
        "id": "M4OePyBSLTu6"
      },
      "id": "M4OePyBSLTu6"
    },
    {
      "cell_type": "markdown",
      "id": "3bc47f55",
      "metadata": {
        "id": "3bc47f55"
      },
      "source": [
        "<font color='blue'>\n",
        "    <font size = 5>\n",
        "    The next steps will enable to study brand-level information.\n",
        "    </font>"
      ]
    },
    {
      "cell_type": "markdown",
      "id": "b9bd00f7",
      "metadata": {
        "id": "b9bd00f7"
      },
      "source": [
        "## Q 8. Create a new dataframe to include the Brand specific information as stated:\n",
        "## i.\ttotal number of orders placed per Brand\n",
        "## ii.\ttotal retail_price per Brand\n",
        "## iii.\ttotal discounted_price per Brand, and \n",
        "## iv.\ttotal net BrandRevenue generated per Brand. \n",
        "\n",
        "## Also, draw a pairplot using these four features. (6 marks)\n"
      ]
    },
    {
      "cell_type": "markdown",
      "id": "8f83cea9",
      "metadata": {
        "id": "8f83cea9"
      },
      "source": [
        "### Ans 8"
      ]
    },
    {
      "cell_type": "code",
      "execution_count": null,
      "id": "ae749847",
      "metadata": {
        "id": "ae749847",
        "colab": {
          "base_uri": "https://localhost:8080/",
          "height": 424
        },
        "outputId": "c5cb0dc1-ec66-4925-d039-e5d343342f2d"
      },
      "outputs": [
        {
          "output_type": "execute_result",
          "data": {
            "text/plain": [
              "              total_number_of_orders_placed_per_brand  \\\n",
              "1OAK                                                2   \n",
              "3A AUTOCARE                                        41   \n",
              "3D Mat                                              1   \n",
              "3kFactory                                           1   \n",
              "4D                                                  5   \n",
              "...                                               ...   \n",
              "youniqueshop                                        1   \n",
              "zDelhi.com                                          1   \n",
              "zaidis                                              1   \n",
              "zasmina                                             2   \n",
              " Tarkan                                             1   \n",
              "\n",
              "              total_retail_price_per_brand  total_discounted_price_per_brand  \\\n",
              "1OAK                                  1698                              1274   \n",
              "3A AUTOCARE                         107059                             74134   \n",
              "3D Mat                                7250                              6999   \n",
              "3kFactory                              399                               174   \n",
              "4D                                   17500                              7948   \n",
              "...                                    ...                               ...   \n",
              "youniqueshop                           810                               640   \n",
              "zDelhi.com                            4499                              3999   \n",
              "zaidis                                 150                               129   \n",
              "zasmina                               1400                               639   \n",
              " Tarkan                               1999                               349   \n",
              "\n",
              "              net_revenue_generated_per_brand  \n",
              "1OAK                               2242221.75  \n",
              "3A AUTOCARE                        2242221.75  \n",
              "3D Mat                             2242221.75  \n",
              "3kFactory                          2242221.75  \n",
              "4D                                 2242221.75  \n",
              "...                                       ...  \n",
              "youniqueshop                       2242221.75  \n",
              "zDelhi.com                         2242221.75  \n",
              "zaidis                             2242221.75  \n",
              "zasmina                            2242221.75  \n",
              " Tarkan                            2242221.75  \n",
              "\n",
              "[2580 rows x 4 columns]"
            ],
            "text/html": [
              "\n",
              "  <div id=\"df-ff1f584c-4ede-4e66-8fcb-f30e66b3f693\">\n",
              "    <div class=\"colab-df-container\">\n",
              "      <div>\n",
              "<style scoped>\n",
              "    .dataframe tbody tr th:only-of-type {\n",
              "        vertical-align: middle;\n",
              "    }\n",
              "\n",
              "    .dataframe tbody tr th {\n",
              "        vertical-align: top;\n",
              "    }\n",
              "\n",
              "    .dataframe thead th {\n",
              "        text-align: right;\n",
              "    }\n",
              "</style>\n",
              "<table border=\"1\" class=\"dataframe\">\n",
              "  <thead>\n",
              "    <tr style=\"text-align: right;\">\n",
              "      <th></th>\n",
              "      <th>total_number_of_orders_placed_per_brand</th>\n",
              "      <th>total_retail_price_per_brand</th>\n",
              "      <th>total_discounted_price_per_brand</th>\n",
              "      <th>net_revenue_generated_per_brand</th>\n",
              "    </tr>\n",
              "  </thead>\n",
              "  <tbody>\n",
              "    <tr>\n",
              "      <th>1OAK</th>\n",
              "      <td>2</td>\n",
              "      <td>1698</td>\n",
              "      <td>1274</td>\n",
              "      <td>2242221.75</td>\n",
              "    </tr>\n",
              "    <tr>\n",
              "      <th>3A AUTOCARE</th>\n",
              "      <td>41</td>\n",
              "      <td>107059</td>\n",
              "      <td>74134</td>\n",
              "      <td>2242221.75</td>\n",
              "    </tr>\n",
              "    <tr>\n",
              "      <th>3D Mat</th>\n",
              "      <td>1</td>\n",
              "      <td>7250</td>\n",
              "      <td>6999</td>\n",
              "      <td>2242221.75</td>\n",
              "    </tr>\n",
              "    <tr>\n",
              "      <th>3kFactory</th>\n",
              "      <td>1</td>\n",
              "      <td>399</td>\n",
              "      <td>174</td>\n",
              "      <td>2242221.75</td>\n",
              "    </tr>\n",
              "    <tr>\n",
              "      <th>4D</th>\n",
              "      <td>5</td>\n",
              "      <td>17500</td>\n",
              "      <td>7948</td>\n",
              "      <td>2242221.75</td>\n",
              "    </tr>\n",
              "    <tr>\n",
              "      <th>...</th>\n",
              "      <td>...</td>\n",
              "      <td>...</td>\n",
              "      <td>...</td>\n",
              "      <td>...</td>\n",
              "    </tr>\n",
              "    <tr>\n",
              "      <th>youniqueshop</th>\n",
              "      <td>1</td>\n",
              "      <td>810</td>\n",
              "      <td>640</td>\n",
              "      <td>2242221.75</td>\n",
              "    </tr>\n",
              "    <tr>\n",
              "      <th>zDelhi.com</th>\n",
              "      <td>1</td>\n",
              "      <td>4499</td>\n",
              "      <td>3999</td>\n",
              "      <td>2242221.75</td>\n",
              "    </tr>\n",
              "    <tr>\n",
              "      <th>zaidis</th>\n",
              "      <td>1</td>\n",
              "      <td>150</td>\n",
              "      <td>129</td>\n",
              "      <td>2242221.75</td>\n",
              "    </tr>\n",
              "    <tr>\n",
              "      <th>zasmina</th>\n",
              "      <td>2</td>\n",
              "      <td>1400</td>\n",
              "      <td>639</td>\n",
              "      <td>2242221.75</td>\n",
              "    </tr>\n",
              "    <tr>\n",
              "      <th>Tarkan</th>\n",
              "      <td>1</td>\n",
              "      <td>1999</td>\n",
              "      <td>349</td>\n",
              "      <td>2242221.75</td>\n",
              "    </tr>\n",
              "  </tbody>\n",
              "</table>\n",
              "<p>2580 rows × 4 columns</p>\n",
              "</div>\n",
              "      <button class=\"colab-df-convert\" onclick=\"convertToInteractive('df-ff1f584c-4ede-4e66-8fcb-f30e66b3f693')\"\n",
              "              title=\"Convert this dataframe to an interactive table.\"\n",
              "              style=\"display:none;\">\n",
              "        \n",
              "  <svg xmlns=\"http://www.w3.org/2000/svg\" height=\"24px\"viewBox=\"0 0 24 24\"\n",
              "       width=\"24px\">\n",
              "    <path d=\"M0 0h24v24H0V0z\" fill=\"none\"/>\n",
              "    <path d=\"M18.56 5.44l.94 2.06.94-2.06 2.06-.94-2.06-.94-.94-2.06-.94 2.06-2.06.94zm-11 1L8.5 8.5l.94-2.06 2.06-.94-2.06-.94L8.5 2.5l-.94 2.06-2.06.94zm10 10l.94 2.06.94-2.06 2.06-.94-2.06-.94-.94-2.06-.94 2.06-2.06.94z\"/><path d=\"M17.41 7.96l-1.37-1.37c-.4-.4-.92-.59-1.43-.59-.52 0-1.04.2-1.43.59L10.3 9.45l-7.72 7.72c-.78.78-.78 2.05 0 2.83L4 21.41c.39.39.9.59 1.41.59.51 0 1.02-.2 1.41-.59l7.78-7.78 2.81-2.81c.8-.78.8-2.07 0-2.86zM5.41 20L4 18.59l7.72-7.72 1.47 1.35L5.41 20z\"/>\n",
              "  </svg>\n",
              "      </button>\n",
              "      \n",
              "  <style>\n",
              "    .colab-df-container {\n",
              "      display:flex;\n",
              "      flex-wrap:wrap;\n",
              "      gap: 12px;\n",
              "    }\n",
              "\n",
              "    .colab-df-convert {\n",
              "      background-color: #E8F0FE;\n",
              "      border: none;\n",
              "      border-radius: 50%;\n",
              "      cursor: pointer;\n",
              "      display: none;\n",
              "      fill: #1967D2;\n",
              "      height: 32px;\n",
              "      padding: 0 0 0 0;\n",
              "      width: 32px;\n",
              "    }\n",
              "\n",
              "    .colab-df-convert:hover {\n",
              "      background-color: #E2EBFA;\n",
              "      box-shadow: 0px 1px 2px rgba(60, 64, 67, 0.3), 0px 1px 3px 1px rgba(60, 64, 67, 0.15);\n",
              "      fill: #174EA6;\n",
              "    }\n",
              "\n",
              "    [theme=dark] .colab-df-convert {\n",
              "      background-color: #3B4455;\n",
              "      fill: #D2E3FC;\n",
              "    }\n",
              "\n",
              "    [theme=dark] .colab-df-convert:hover {\n",
              "      background-color: #434B5C;\n",
              "      box-shadow: 0px 1px 3px 1px rgba(0, 0, 0, 0.15);\n",
              "      filter: drop-shadow(0px 1px 2px rgba(0, 0, 0, 0.3));\n",
              "      fill: #FFFFFF;\n",
              "    }\n",
              "  </style>\n",
              "\n",
              "      <script>\n",
              "        const buttonEl =\n",
              "          document.querySelector('#df-ff1f584c-4ede-4e66-8fcb-f30e66b3f693 button.colab-df-convert');\n",
              "        buttonEl.style.display =\n",
              "          google.colab.kernel.accessAllowed ? 'block' : 'none';\n",
              "\n",
              "        async function convertToInteractive(key) {\n",
              "          const element = document.querySelector('#df-ff1f584c-4ede-4e66-8fcb-f30e66b3f693');\n",
              "          const dataTable =\n",
              "            await google.colab.kernel.invokeFunction('convertToInteractive',\n",
              "                                                     [key], {});\n",
              "          if (!dataTable) return;\n",
              "\n",
              "          const docLinkHtml = 'Like what you see? Visit the ' +\n",
              "            '<a target=\"_blank\" href=https://colab.research.google.com/notebooks/data_table.ipynb>data table notebook</a>'\n",
              "            + ' to learn more about interactive tables.';\n",
              "          element.innerHTML = '';\n",
              "          dataTable['output_type'] = 'display_data';\n",
              "          await google.colab.output.renderOutput(dataTable, element);\n",
              "          const docLink = document.createElement('div');\n",
              "          docLink.innerHTML = docLinkHtml;\n",
              "          element.appendChild(docLink);\n",
              "        }\n",
              "      </script>\n",
              "    </div>\n",
              "  </div>\n",
              "  "
            ]
          },
          "metadata": {},
          "execution_count": 73
        }
      ],
      "source": [
        "number_of_orders_per_brand = ECom_Data['Brand'].value_counts()\n",
        "retail_price_per_brand = ECom_Data.groupby('Brand')['retail_price'].sum()\n",
        "discounted_price_per_brand = ECom_Data.groupby('Brand')['discounted_price'].sum()\n",
        "total_net_brand_revenue = net_revenue\n",
        "\n",
        "df=pd.DataFrame({'total_number_of_orders_placed_per_brand':number_of_orders_per_brand, 'total_retail_price_per_brand':retail_price_per_brand, 'total_discounted_price_per_brand':discounted_price_per_brand, 'net_revenue_generated_per_brand':total_net_brand_revenue});\n",
        "df"
      ]
    },
    {
      "cell_type": "markdown",
      "source": [
        "Here we are creating a new dataframe named df with all the four features"
      ],
      "metadata": {
        "id": "6YoLmdX_W0QR"
      },
      "id": "6YoLmdX_W0QR"
    },
    {
      "cell_type": "code",
      "source": [
        "plt.figure(figsize=(15,5))\n",
        "sns.pairplot(data=df[['total_number_of_orders_placed_per_brand', 'total_retail_price_per_brand', 'total_discounted_price_per_brand', 'net_revenue_generated_per_brand']]);"
      ],
      "metadata": {
        "colab": {
          "base_uri": "https://localhost:8080/",
          "height": 753
        },
        "id": "UBJjwhCUTpEe",
        "outputId": "2451bc15-1b59-48de-b45b-79336228f919"
      },
      "id": "UBJjwhCUTpEe",
      "execution_count": null,
      "outputs": [
        {
          "output_type": "display_data",
          "data": {
            "text/plain": [
              "<Figure size 1080x360 with 0 Axes>"
            ]
          },
          "metadata": {}
        },
        {
          "output_type": "display_data",
          "data": {
            "text/plain": [
              "<Figure size 720x720 with 20 Axes>"
            ],
            "image/png": "[encoded data removed]"
          },
          "metadata": {
            "needs_background": "light"
          }
        }
      ]
    },
    {
      "cell_type": "markdown",
      "source": [
        "After creating a new dataframe df, we are plotting a pair plot with all the four features."
      ],
      "metadata": {
        "id": "W6MuJsvyXA02"
      },
      "id": "W6MuJsvyXA02"
    },
    {
      "cell_type": "markdown",
      "id": "ecec83f4",
      "metadata": {
        "id": "ecec83f4"
      },
      "source": [
        "<font color='blue'>\n",
        "    <font size = 5>\n",
        "    The E-Commerce company operate in multiple regions. It is important to understand its performance in each region.\n",
        "    </font>"
      ]
    },
    {
      "cell_type": "markdown",
      "id": "dd09b8aa",
      "metadata": {
        "id": "dd09b8aa"
      },
      "source": [
        "## Q 9.Compare performance regionwise\n",
        "\n",
        "## a)\tDraw a lineplot for the monthly net Revenue of E-Commerce Company for each region separately.  (4 marks) \n",
        "\n",
        "## b)\tIdentify the best and the worst performing months for each region. (2 marks)\n",
        "\n",
        "#### Note: Only those days with actual orders(Order_Date) placed are present in the dataset. Assuming there were no orders on other days"
      ]
    },
    {
      "cell_type": "markdown",
      "id": "e6d64aea",
      "metadata": {
        "id": "e6d64aea"
      },
      "source": [
        "### Ans 9 a)"
      ]
    },
    {
      "cell_type": "code",
      "execution_count": null,
      "id": "d9a4f534",
      "metadata": {
        "id": "d9a4f534",
        "colab": {
          "base_uri": "https://localhost:8080/",
          "height": 356
        },
        "outputId": "d1046648-a785-429a-8898-2822cd81ab4a"
      },
      "outputs": [
        {
          "output_type": "error",
          "ename": "AttributeError",
          "evalue": "ignored",
          "traceback": [
            "\u001b[0;31m---------------------------------------------------------------------------\u001b[0m",
            "\u001b[0;31mAttributeError\u001b[0m                            Traceback (most recent call last)",
            "\u001b[0;32m<ipython-input-82-913c6fdbc9b5>\u001b[0m in \u001b[0;36m<module>\u001b[0;34m\u001b[0m\n\u001b[1;32m      5\u001b[0m     \u001b[0mregion_subset\u001b[0m\u001b[0;34m=\u001b[0m \u001b[0mECom_Data\u001b[0m\u001b[0;34m[\u001b[0m\u001b[0mECom_Data\u001b[0m\u001b[0;34m[\u001b[0m\u001b[0;34m'Region'\u001b[0m\u001b[0;34m]\u001b[0m \u001b[0;34m==\u001b[0m \u001b[0mregion_name\u001b[0m\u001b[0;34m]\u001b[0m\u001b[0;34m\u001b[0m\u001b[0;34m\u001b[0m\u001b[0m\n\u001b[1;32m      6\u001b[0m \u001b[0;34m\u001b[0m\u001b[0m\n\u001b[0;32m----> 7\u001b[0;31m     \u001b[0;32mfor\u001b[0m \u001b[0mmonth\u001b[0m \u001b[0;32min\u001b[0m \u001b[0mregion_subset\u001b[0m\u001b[0;34m.\u001b[0m\u001b[0mmonths\u001b[0m\u001b[0;34m.\u001b[0m\u001b[0munique\u001b[0m\u001b[0;34m(\u001b[0m\u001b[0;34m)\u001b[0m\u001b[0;34m:\u001b[0m\u001b[0;34m\u001b[0m\u001b[0;34m\u001b[0m\u001b[0m\n\u001b[0m\u001b[1;32m      8\u001b[0m         \u001b[0mmonth_subset\u001b[0m\u001b[0;34m=\u001b[0m\u001b[0mregion_subset\u001b[0m\u001b[0;34m[\u001b[0m\u001b[0mregion_subset\u001b[0m\u001b[0;34m[\u001b[0m\u001b[0;34m'months'\u001b[0m\u001b[0;34m]\u001b[0m\u001b[0;34m==\u001b[0m\u001b[0mmonth\u001b[0m\u001b[0;34m]\u001b[0m\u001b[0;34m\u001b[0m\u001b[0;34m\u001b[0m\u001b[0m\n\u001b[1;32m      9\u001b[0m \u001b[0;34m\u001b[0m\u001b[0m\n",
            "\u001b[0;32m/usr/local/lib/python3.7/dist-packages/pandas/core/generic.py\u001b[0m in \u001b[0;36m__getattr__\u001b[0;34m(self, name)\u001b[0m\n\u001b[1;32m   5485\u001b[0m         ):\n\u001b[1;32m   5486\u001b[0m             \u001b[0;32mreturn\u001b[0m \u001b[0mself\u001b[0m\u001b[0;34m[\u001b[0m\u001b[0mname\u001b[0m\u001b[0;34m]\u001b[0m\u001b[0;34m\u001b[0m\u001b[0;34m\u001b[0m\u001b[0m\n\u001b[0;32m-> 5487\u001b[0;31m         \u001b[0;32mreturn\u001b[0m \u001b[0mobject\u001b[0m\u001b[0;34m.\u001b[0m\u001b[0m__getattribute__\u001b[0m\u001b[0;34m(\u001b[0m\u001b[0mself\u001b[0m\u001b[0;34m,\u001b[0m \u001b[0mname\u001b[0m\u001b[0;34m)\u001b[0m\u001b[0;34m\u001b[0m\u001b[0;34m\u001b[0m\u001b[0m\n\u001b[0m\u001b[1;32m   5488\u001b[0m \u001b[0;34m\u001b[0m\u001b[0m\n\u001b[1;32m   5489\u001b[0m     \u001b[0;32mdef\u001b[0m \u001b[0m__setattr__\u001b[0m\u001b[0;34m(\u001b[0m\u001b[0mself\u001b[0m\u001b[0;34m,\u001b[0m \u001b[0mname\u001b[0m\u001b[0;34m:\u001b[0m \u001b[0mstr\u001b[0m\u001b[0;34m,\u001b[0m \u001b[0mvalue\u001b[0m\u001b[0;34m)\u001b[0m \u001b[0;34m->\u001b[0m \u001b[0;32mNone\u001b[0m\u001b[0;34m:\u001b[0m\u001b[0;34m\u001b[0m\u001b[0;34m\u001b[0m\u001b[0m\n",
            "\u001b[0;31mAttributeError\u001b[0m: 'DataFrame' object has no attribute 'months'"
          ]
        }
      ],
      "source": [
        "net_revenue = []\n",
        "months_name = []\n",
        "region_names = []\n",
        "for region_name in ECom_Data.Region.unique():\n",
        "    region_subset= ECom_Data[ECom_Data['Region'] == region_name]\n",
        "\n",
        "    for month in region_subset.months.unique():\n",
        "        month_subset=region_subset[region_subset['months']==month]\n",
        "\n",
        "        total_revenue=0\n",
        "        for value in month_subset.discounted_price:\n",
        "            total_revenue=total_revenue+compute_profitability_margin(value)\n",
        "\n",
        "        region_names.append(region_name)\n",
        "        months_name.append(month)\n",
        "        net_revenue.append(total_revenue)\n",
        "\n",
        "result=pd.DataFrame({'region_name':region_names, 'months_name':months_name, 'net_revenue':net_revenue})\n",
        "\n",
        "result.sort_values('net_revenue', ascending=False).head(15)"
      ]
    },
    {
      "cell_type": "markdown",
      "id": "dac59dc4",
      "metadata": {
        "id": "dac59dc4"
      },
      "source": [
        "### Ans 9 b)"
      ]
    },
    {
      "cell_type": "code",
      "execution_count": null,
      "id": "9f569635",
      "metadata": {
        "id": "9f569635"
      },
      "outputs": [],
      "source": [
        ""
      ]
    },
    {
      "cell_type": "markdown",
      "id": "dcb8d39f",
      "metadata": {
        "id": "dcb8d39f"
      },
      "source": [
        "<font color='blue'>\n",
        "    <font size = 5>\n",
        "    Congratulations! You have learnt how to approach a complex data and extract information out of it. \n",
        "    </font>"
      ]
    }
  ],
  "metadata": {
    "kernelspec": {
      "display_name": "Python 3",
      "language": "python",
      "name": "python3"
    },
    "language_info": {
      "codemirror_mode": {
        "name": "ipython",
        "version": 3
      },
      "file_extension": ".py",
      "mimetype": "text/x-python",
      "name": "python",
      "nbconvert_exporter": "python",
      "pygments_lexer": "ipython3",
      "version": "3.8.8"
    },
    "colab": {
      "name": "BarkhaAgarwal_21-Aug-2022.ipynb",
      "provenance": [],
      "collapsed_sections": [
        "a9f81605"
      ]
    }
  },
  "nbformat": 4,
  "nbformat_minor": 5
}